{
 "cells": [
  {
   "cell_type": "code",
   "execution_count": 1,
   "metadata": {},
   "outputs": [
    {
     "name": "stdout",
     "output_type": "stream",
     "text": [
      "['20183479', '20170513', '20183375', '20183785', '20182693', '20182421', '20183073', '20176251', '20183050', '20177552', '20170658', '20189843', '20184105', '20168773', '20184187', '20179230', '20182669', '20184574', '20182082', '20181905', '20183915', '20176814', '20186822', '20177538', '20189869', '20184481', '20010291', '20183007', '20182966', '20180290', '20175547', '20182935', '20183238', '20181404', '20178825', '20179006', '20183745', '20181171', '20185485', '20174981', '20180523', '20189463', '20186281']\n"
     ]
    }
   ],
   "source": [
    "import datetime\n",
    "import requests\n",
    "import csv\n",
    "\n",
    "movies = []\n",
    "\n",
    "start_date = datetime.datetime(2019,1,13)\n",
    "for i in range(10):\n",
    "    t = start_date - datetime.timedelta(days=7 * i)\n",
    "    target = t.strftime('%Y%m%d')\n",
    "    \n",
    "    key = 'e12be2ef03b4294b6b4ca0657423cbc6'\n",
    "    URL = f'http://www.kobis.or.kr/kobisopenapi/webservice/rest/boxoffice/searchWeeklyBoxOfficeList.json?key={key}&targetDt={target}&weekGb=0'\n",
    "    response = requests.get(URL).json()\n",
    "    recorded_at = response['boxOfficeResult']['showRange']\n",
    "    response = response['boxOfficeResult']['weeklyBoxOfficeList']    \n",
    "\n",
    "    for i in range(10):        \n",
    "        a = response[i]['movieCd'] \n",
    "        movies.append(a) \n",
    "movies = list(set(movies))\n",
    "\n",
    "\n"
   ]
  },
  {
   "cell_type": "code",
   "execution_count": 38,
   "metadata": {},
   "outputs": [],
   "source": [
    "\n",
    "for i in movies:\n",
    "    key = 'e12be2ef03b4294b6b4ca0657423cbc6'\n",
    "    URL = f'http://www.kobis.or.kr/kobisopenapi/webservice/rest/movie/searchMovieInfo.json?key={key}&movieCd=20184105'\n",
    "    \n",
    "    response = requests.get(URL).json()\n",
    "    response = response['movieInfoResult']['movieInfo']\n",
    "#     output = []\n",
    "#     output.append(response['movieCd'])\n",
    "#     output.append(response['movieNm'])\n",
    "#     output.append(response['movieNmEn'])\n",
    "#     output.append(response['movieNmOg'])\n",
    "#     output.append(response['openDt'])\n",
    "#     output.append(response['genres'][0]['genreNm'])\n",
    "#     output.append(response['directors'][0]['peopleNm'])\n",
    "#     output.append(response['audits'][0]['watchGradeNm']) \n",
    "#     if response['actors'] != []:\n",
    "#         for i in range(3):\n",
    "#             if response['actors'][i]['peopleNm'] == '':\n",
    "#                 break \n",
    "#             elif response['actors'][i]['peopleNm'] != '':\n",
    "#                 output.append(response['actors'][i]['peopleNm'])\n",
    "\n",
    "\n",
    "#         f = open('movie.csv', 'a+', encoding='utf-8', newline='')\n",
    "#         writer = csv.writer(f)\n",
    "\n",
    "#         writer.writerow(        \n",
    "#             output\n",
    "#         )\n",
    "\n",
    "#         f.close\n"
   ]
  },
  {
   "cell_type": "code",
   "execution_count": 39,
   "metadata": {},
   "outputs": [
    {
     "name": "stdout",
     "output_type": "stream",
     "text": [
      "{'movieCd': '20184105', 'movieNm': '말모이', 'movieNmEn': 'MAL·MO·E: The Secret Mission', 'movieNmOg': '', 'showTm': '135', 'prdtYear': '2018', 'openDt': '20190109', 'prdtStatNm': '개봉', 'typeNm': '장편', 'nations': [{'nationNm': '한국'}], 'genres': [{'genreNm': '드라마'}], 'directors': [{'peopleNm': '엄유나', 'peopleNmEn': 'EOM Yuna'}], 'actors': [{'peopleNm': '유해진', 'peopleNmEn': 'YOO Hae-jin', 'cast': '', 'castEn': ''}, {'peopleNm': '윤계상', 'peopleNmEn': 'YOON Kye-sang', 'cast': '', 'castEn': ''}, {'peopleNm': '김홍파', 'peopleNmEn': 'KIM Hong-pa', 'cast': '', 'castEn': ''}, {'peopleNm': '우현', 'peopleNmEn': 'WOO Hyun', 'cast': '', 'castEn': ''}, {'peopleNm': '김태훈', 'peopleNmEn': 'KIM Tae-hun', 'cast': '', 'castEn': ''}, {'peopleNm': '김선영', 'peopleNmEn': 'KIM Sun-young', 'cast': '', 'castEn': ''}, {'peopleNm': '민진웅', 'peopleNmEn': 'MIN Jin-woong', 'cast': '', 'castEn': ''}], 'showTypes': [{'showTypeGroupNm': '2D', 'showTypeNm': '디지털'}, {'showTypeGroupNm': '2D', 'showTypeNm': '디지털 영문자막'}], 'companys': [{'companyCd': '20124216', 'companyNm': '더램프(주)', 'companyNmEn': 'The LAMP ltd.', 'companyPartNm': '제작사'}, {'companyCd': '20188021', 'companyNm': '롯데컬처웍스(주)롯데엔터테인먼트', 'companyNmEn': 'Lotte Cultureworks Lotte Entertainment Co.,Ltd', 'companyPartNm': '배급사'}, {'companyCd': '20188021', 'companyNm': '롯데컬처웍스(주)롯데엔터테인먼트', 'companyNmEn': 'Lotte Cultureworks Lotte Entertainment Co.,Ltd', 'companyPartNm': '제공'}, {'companyCd': '20188021', 'companyNm': '롯데컬처웍스(주)롯데엔터테인먼트', 'companyNmEn': 'Lotte Cultureworks Lotte Entertainment Co.,Ltd', 'companyPartNm': '해외세일즈사'}], 'audits': [{'auditNo': '2018-MF02396', 'watchGradeNm': '12세이상관람가'}], 'staffs': [{'peopleNm': '박은경', 'peopleNmEn': 'PARK Eun-kyung', 'staffRoleNm': '제작'}, {'peopleNm': '엄유나', 'peopleNmEn': 'EOM Yuna', 'staffRoleNm': '시나리오(각본)'}, {'peopleNm': '윤서영', 'peopleNmEn': '', 'staffRoleNm': '프로듀서'}]}\n"
     ]
    }
   ],
   "source": [
    "print(response)"
   ]
  },
  {
   "cell_type": "code",
   "execution_count": 37,
   "metadata": {},
   "outputs": [],
   "source": [
    "a = []\n",
    "for i in range(len(a)):\n",
    "    print(f'{a}')"
   ]
  },
  {
   "cell_type": "code",
   "execution_count": null,
   "metadata": {},
   "outputs": [],
   "source": []
  }
 ],
 "metadata": {
  "kernelspec": {
   "display_name": "Python 3",
   "language": "python",
   "name": "python3"
  },
  "language_info": {
   "codemirror_mode": {
    "name": "ipython",
    "version": 3
   },
   "file_extension": ".py",
   "mimetype": "text/x-python",
   "name": "python",
   "nbconvert_exporter": "python",
   "pygments_lexer": "ipython3",
   "version": "3.6.7"
  }
 },
 "nbformat": 4,
 "nbformat_minor": 2
}
