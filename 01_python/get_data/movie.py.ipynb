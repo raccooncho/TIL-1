{
 "cells": [
  {
   "cell_type": "code",
   "execution_count": null,
   "metadata": {},
   "outputs": [
    {
     "name": "stdout",
     "output_type": "stream",
     "text": [
      "{'faultInfo': {'message': '날짜는 필수항목입니다.[parameterName=targetDt,parameterValue=null]', 'errorCode': '320102'}}\n",
      "{'faultInfo': {'message': '날짜는 필수항목입니다.[parameterName=targetDt,parameterValue=null]', 'errorCode': '320102'}}\n",
      "{'faultInfo': {'message': '날짜는 필수항목입니다.[parameterName=targetDt,parameterValue=null]', 'errorCode': '320102'}}\n",
      "{'faultInfo': {'message': '날짜는 필수항목입니다.[parameterName=targetDt,parameterValue=null]', 'errorCode': '320102'}}\n",
      "{'faultInfo': {'message': '날짜는 필수항목입니다.[parameterName=targetDt,parameterValue=null]', 'errorCode': '320102'}}\n",
      "{'faultInfo': {'message': '날짜는 필수항목입니다.[parameterName=targetDt,parameterValue=null]', 'errorCode': '320102'}}\n",
      "{'faultInfo': {'message': '날짜는 필수항목입니다.[parameterName=targetDt,parameterValue=null]', 'errorCode': '320102'}}\n",
      "{'faultInfo': {'message': '날짜는 필수항목입니다.[parameterName=targetDt,parameterValue=null]', 'errorCode': '320102'}}\n",
      "{'faultInfo': {'message': '날짜는 필수항목입니다.[parameterName=targetDt,parameterValue=null]', 'errorCode': '320102'}}\n",
      "{'faultInfo': {'message': '날짜는 필수항목입니다.[parameterName=targetDt,parameterValue=null]', 'errorCode': '320102'}}\n"
     ]
    }
   ],
   "source": [
    "from datetime import datetime, timedelta\n",
    "import requests\n",
    "import csv\n",
    "\n",
    "movie_dict = []\n",
    "\n",
    "start_date = datetime(2018,11,11)\n",
    "for i in range(10):\n",
    "    t = start_date + timedelta(days=7 * i)\n",
    "    target = t.strftime('%Y%m%d')\n",
    "    \n",
    "    for i in range(10):\n",
    "        key = 'e12be2ef03b4294b6b4ca0657423cbc6'\n",
    "        URL = f'http://www.kobis.or.kr/kobisopenapi/webservice/rest/boxoffice/searchWeeklyBoxOfficeList.json?key={key}&targetDt=20190113&weekGb=0'\n",
    "        response = requests.get(URL).json()\n",
    "        movieCd = response['boxOfficeResult']['weeklyBoxOfficeList'][i]['movieCd']\n",
    "        \n",
    "        key = 'e12be2ef03b4294b6b4ca0657423cbc6'\n",
    "        URL = f'http://www.kobis.or.kr/kobisopenapi/webservice/rest/boxoffice/searchWeeklyBoxOfficeList.json?key={key}&movieCd={movieCd}'\n",
    "        response = requests.get(URL).json()\n",
    "#         response = response['movieInfoResult']['movieInfo']\n",
    "        \n",
    "        print(response)\n",
    "        \n",
    "#         movie_info = []        \n",
    "              \n",
    "#         movieNm = response['movieNm']\n",
    "#         movieNmEn = response['movieNmEn']\n",
    "#         movieNmOg = response['movieNmOg']\n",
    "#         openDt = response['operDt']\n",
    "#         showTm = response['showTm']\n",
    "#         genreNm = response['genres']['genreNm']\n",
    "#         peopleNm = response['directors']['peopleNm']\n",
    "#         watchGradeNm = response['audits']['watchGradeNm']\n",
    "#         actor1 = response['actors']['peopleNm']\n",
    "#         actor2 = response['actors']['peopleNm']\n",
    "#         actor3 = response['actors']['peopleNm']\n",
    "        \n",
    "#         movie_info.append(movieCd)\n",
    "#         movie_info.append(movieNm)\n",
    "#         movie_info.append(movieNmEn)\n",
    "#         movie_info.append(movieNmOg)\n",
    "#         movie_info.append(openDt)\n",
    "#         movie_info.append(showTm)\n",
    "#         movie_info.append(genreNm)\n",
    "#         movie_info.append(peopleNm)\n",
    "#         movie_info.append(watchGradeNm)\n",
    "#         movie_info.append(actor1)\n",
    "#         movie_info.append(actor2)\n",
    "#         movie_info.append(actor3)\n",
    "        \n",
    "#         f = open('movie.csv', 'a+', encoding='utf-8', newline='')\n",
    "#         writer = csv.writer(f)\n",
    "\n",
    "#         writer.writerow(\n",
    "#             movie_info\n",
    "#         )\n",
    "        \n",
    "#         f.close\n",
    "        "
   ]
  },
  {
   "cell_type": "code",
   "execution_count": 1,
   "metadata": {},
   "outputs": [
    {
     "ename": "IndentationError",
     "evalue": "unexpected indent (<ipython-input-1-d785b34ffa2b>, line 2)",
     "output_type": "error",
     "traceback": [
      "\u001b[1;36m  File \u001b[1;32m\"<ipython-input-1-d785b34ffa2b>\"\u001b[1;36m, line \u001b[1;32m2\u001b[0m\n\u001b[1;33m    URL = f'http://www.kobis.or.kr/kobisopenapi/webservice/rest/boxoffice/searchWeeklyBoxOfficeList.json?key={key}&movieCd={movieCd}'\u001b[0m\n\u001b[1;37m    ^\u001b[0m\n\u001b[1;31mIndentationError\u001b[0m\u001b[1;31m:\u001b[0m unexpected indent\n"
     ]
    }
   ],
   "source": [
    "key = 'e12be2ef03b4294b6b4ca0657423cbc6'\n",
    "        URL = f'http://www.kobis.or.kr/kobisopenapi/webservice/rest/boxoffice/searchWeeklyBoxOfficeList.json?key={key}&movieCd={movieCd}'\n",
    "        response = requests.get(URL).json()\n",
    "        response = response[movieInfoResult][movieInfo]\n",
    "        movie_info = []        \n",
    "              \n",
    "        movieNm = response['movieNm']\n",
    "        movieNmEn = response['movieNmEn']\n",
    "        movieNmOg = response['movieNmOg']\n",
    "        openDt = response['operDt']\n",
    "        showTm = response['showTm']\n",
    "        genreNm = response['genres']['genreNm']\n",
    "        peopleNm = response['directors']['peopleNm']\n",
    "        watchGradeNm = response['audits']['watchGradeNm']\n",
    "        actor1 = response['actors']['peopleNm']\n",
    "        actor2 = response['actors']['peopleNm']\n",
    "        actor3 = response['actors']['peopleNm']\n",
    "        \n",
    "        movie_info.append(movieCd)\n",
    "        movie_info.append(movieNm)\n",
    "        movie_info.append(movieNmEn)\n",
    "        movie_info.append(movieNmOg)\n",
    "        movie_info.append(openDt)\n",
    "        movie_info.append(showTm)\n",
    "        movie_info.append(genreNm)\n",
    "        movie_info.append(peopleNm)\n",
    "        movie_info.append(watchGradeNm)\n",
    "        movie_info.append(actor1)\n",
    "        movie_info.append(actor2)\n",
    "        movie_info.append(actor3)\n",
    "        \n",
    "        f = open('movie.csv', 'a+', encoding='utf-8', newline='')\n",
    "        writer = csv.writer(f)\n",
    "\n",
    "        writer.writerow(\n",
    "            movie_info\n",
    "        )\n",
    "        \n",
    "        f.close\n",
    "        \n",
    "        "
   ]
  },
  {
   "cell_type": "code",
   "execution_count": null,
   "metadata": {},
   "outputs": [],
   "source": []
  }
 ],
 "metadata": {
  "kernelspec": {
   "display_name": "Python 3",
   "language": "python",
   "name": "python3"
  },
  "language_info": {
   "codemirror_mode": {
    "name": "ipython",
    "version": 3
   },
   "file_extension": ".py",
   "mimetype": "text/x-python",
   "name": "python",
   "nbconvert_exporter": "python",
   "pygments_lexer": "ipython3",
   "version": "3.6.7"
  }
 },
 "nbformat": 4,
 "nbformat_minor": 2
}
