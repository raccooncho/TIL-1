{
 "cells": [
  {
   "cell_type": "code",
   "execution_count": 5,
   "metadata": {},
   "outputs": [],
   "source": [
    "import datetime\n",
    "import requests\n",
    "import csv\n",
    "\n",
    "movies_name = []\n",
    "movies_code = []\n",
    "\n",
    "start_date = datetime.datetime(2019,1,13)\n",
    "for i in range(10):\n",
    "    t = start_date - datetime.timedelta(days=7 * i)\n",
    "    target = t.strftime('%Y%m%d')\n",
    "    \n",
    "    key = 'e12be2ef03b4294b6b4ca0657423cbc6'\n",
    "    URL = f'http://www.kobis.or.kr/kobisopenapi/webservice/rest/boxoffice/searchWeeklyBoxOfficeList.json?key={key}&targetDt={target}&weekGb=0'\n",
    "    response = requests.get(URL).json()    \n",
    "    response = response['boxOfficeResult']['weeklyBoxOfficeList']    \n",
    "\n",
    "    for i in range(10):        \n",
    "        movie_code = response[i]['movieCd']\n",
    "        movies_code.append(movie_code)\n",
    "        movie_name = response[i]['movieNm']\n",
    "        movies_name.append(movie_name)\n",
    "        \n",
    "movies_name = list(set(movies_name))         \n",
    "movies_code = list(set(movies_code))"
   ]
  },
  {
   "cell_type": "code",
   "execution_count": 6,
   "metadata": {},
   "outputs": [],
   "source": [
    "naver_uri = 'https://openapi.naver.com/v1/search/movie.json?query='\n",
    "\n",
    "client_id = 'FaSdalhj1Twe1bDOc9uO'\n",
    "client_secret = 'Fjx3tc_Alv'\n",
    "headers = { \n",
    "    'X-Naver-Client-Id': client_id, \n",
    "    'X-Naver-Client-Secret': client_secret\n",
    "}\n",
    "\n",
    "for movie in movies_name:\n",
    "    response = requests.get(naver_uri + movie, headers=headers).json()\n",
    "    movie_naver = []\n",
    "    n = movies_name.index(movie)\n",
    "    movie_naver.append(movies_code[n])    \n",
    "    movie_naver.append(response['items'][0]['image'])\n",
    "    movie_naver.append(response['items'][0]['link'])\n",
    "    movie_naver.append(response['items'][0]['userRating'])\n",
    "    \n",
    "    f = open('movie_naver.csv', 'a+', encoding='utf-8', newline='')\n",
    "    writer = csv.writer(f)\n",
    "\n",
    "    writer.writerow(        \n",
    "        movie_naver\n",
    "    )\n",
    "\n",
    "    f.close\n",
    "    \n",
    "    \n",
    "    \n"
   ]
  },
  {
   "cell_type": "code",
   "execution_count": 8,
   "metadata": {},
   "outputs": [
    {
     "name": "stdout",
     "output_type": "stream",
     "text": [
      "['20179230', 'https://ssl.pstatic.net/imgmovie/mdi/mit110/1641/164192_P45_134107.jpg', 'https://movie.naver.com/movie/bi/mi/basic.nhn?code=164192', '8.18']\n"
     ]
    }
   ],
   "source": [
    "print(movie_naver)"
   ]
  },
  {
   "cell_type": "code",
   "execution_count": 8,
   "metadata": {},
   "outputs": [],
   "source": [
    "#교수님 예시\n",
    "result = []\n",
    "for movie in movies:\n",
    "    data_set = requests.get(naver_uri + movies[0], headers=headers).json()\n",
    "    movie_info = {}\n",
    "    movie_info['title'] = data_set['items'][0]['title']\n",
    "    movie_info['link'] = data_set['items'][0]['link']\n",
    "    movie_info['image'] = data_set['items'][0]['image']\n",
    "    result.append(movie_info)"
   ]
  },
  {
   "cell_type": "code",
   "execution_count": 9,
   "metadata": {},
   "outputs": [
    {
     "data": {
      "text/plain": [
       "[{'title': '<b>말모이</b>',\n",
       "  'link': 'https://movie.naver.com/movie/bi/mi/basic.nhn?code=167699',\n",
       "  'image': 'https://ssl.pstatic.net/imgmovie/mdi/mit110/1676/167699_P40_175859.jpg'},\n",
       " {'title': '<b>말모이</b>',\n",
       "  'link': 'https://movie.naver.com/movie/bi/mi/basic.nhn?code=167699',\n",
       "  'image': 'https://ssl.pstatic.net/imgmovie/mdi/mit110/1676/167699_P40_175859.jpg'},\n",
       " {'title': '<b>말모이</b>',\n",
       "  'link': 'https://movie.naver.com/movie/bi/mi/basic.nhn?code=167699',\n",
       "  'image': 'https://ssl.pstatic.net/imgmovie/mdi/mit110/1676/167699_P40_175859.jpg'}]"
      ]
     },
     "execution_count": 9,
     "metadata": {},
     "output_type": "execute_result"
    }
   ],
   "source": [
    "result"
   ]
  },
  {
   "cell_type": "code",
   "execution_count": null,
   "metadata": {},
   "outputs": [],
   "source": []
  }
 ],
 "metadata": {
  "kernelspec": {
   "display_name": "Python 3",
   "language": "python",
   "name": "python3"
  },
  "language_info": {
   "codemirror_mode": {
    "name": "ipython",
    "version": 3
   },
   "file_extension": ".py",
   "mimetype": "text/x-python",
   "name": "python",
   "nbconvert_exporter": "python",
   "pygments_lexer": "ipython3",
   "version": "3.6.7"
  }
 },
 "nbformat": 4,
 "nbformat_minor": 2
}
