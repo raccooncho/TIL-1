{
 "cells": [
  {
   "cell_type": "markdown",
   "metadata": {},
   "source": [
    "1-1 [F]\n",
    "\n",
    "1-2 [F]\n",
    "\n",
    "1-3 [T]\n",
    "\n",
    "1-4 [T]\n",
    "\n",
    "2-1 ls : 현재 내가 위치해있는 디렉토리에 있는 모든 파일을 보여준다 (hidden 제외)\n",
    "\n",
    "2-2 cd :  디렉토리를 변경하기\n",
    "\n",
    "2-3 mkdir : 새로운 디렉토리를 생성\n",
    "\n",
    "2-4 touch : 현재 위치한 디렉토리에 새로운 파일을 생성\n",
    "\n",
    "3 tab을 통해 직접 입력하지 않고 불러올 수 있기 때문에"
   ]
  }
 ],
 "metadata": {
  "kernelspec": {
   "display_name": "Python 3",
   "language": "python",
   "name": "python3"
  },
  "language_info": {
   "codemirror_mode": {
    "name": "ipython",
    "version": 3
   },
   "file_extension": ".py",
   "mimetype": "text/x-python",
   "name": "python",
   "nbconvert_exporter": "python",
   "pygments_lexer": "ipython3",
   "version": "3.6.7"
  }
 },
 "nbformat": 4,
 "nbformat_minor": 2
}
