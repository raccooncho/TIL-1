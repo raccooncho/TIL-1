{
 "cells": [
  {
   "cell_type": "markdown",
   "metadata": {},
   "source": [
    "1. HTML은 무엇의 약자인가?\n",
    "> 3) HyperText Markup Language"
   ]
  },
  {
   "cell_type": "markdown",
   "metadata": {},
   "source": [
    "2. 다음 중 맞으면 T, 틀리면 F를 기입하시오.\n",
    "\n",
    ">(1) 웹 표준을 만드는 곳은 Mozilla 재단이다 [F] > W3C\n",
    "\n",
    ">(2) 표(table)을 만들 때에는 반드시 <th> 태그를 사용해야 한다 [F] > tablehaed는 반드시 필요한 것은 아니다\n",
    "    \n",
    ">(3) 제목(Heading) 태그는 제목 이외에는 사용하지 않는 것이 좋다 [T]\n",
    "\n",
    ">(4) 인용문을 가리키는 태그는 `<blockquote>`이다 [T]"
   ]
  },
  {
   "cell_type": "markdown",
   "metadata": {},
   "source": [
    "3. 보기 중 콘텐츠의 의미를 명확히 하기 위해 HTML5에서 새롭게 추가된 시맨틱(semantic) 태그를 모두 선택하시오\n",
    "> [article, div, footer, nav, head, container]  >  [article, footer, nav, head, container]"
   ]
  },
  {
   "cell_type": "markdown",
   "metadata": {},
   "source": [
    "4. 아래 이미지와 같은 로그인 화면을 생성하는 html 코드를 작성하시오"
   ]
  }
 ],
 "metadata": {
  "kernelspec": {
   "display_name": "Python 3",
   "language": "python",
   "name": "python3"
  },
  "language_info": {
   "codemirror_mode": {
    "name": "ipython",
    "version": 3
   },
   "file_extension": ".py",
   "mimetype": "text/x-python",
   "name": "python",
   "nbconvert_exporter": "python",
   "pygments_lexer": "ipython3",
   "version": "3.6.7"
  }
 },
 "nbformat": 4,
 "nbformat_minor": 2
}
