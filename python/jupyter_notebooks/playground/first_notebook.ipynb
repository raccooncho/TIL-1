{
 "cells": [
  {
   "cell_type": "code",
   "execution_count": 5,
   "metadata": {},
   "outputs": [
    {
     "ename": "SyntaxError",
     "evalue": "invalid syntax (<ipython-input-5-64a39a3950ae>, line 10)",
     "output_type": "error",
     "traceback": [
      "\u001b[1;36m  File \u001b[1;32m\"<ipython-input-5-64a39a3950ae>\"\u001b[1;36m, line \u001b[1;32m10\u001b[0m\n\u001b[1;33m    gcd =\u001b[0m\n\u001b[1;37m         ^\u001b[0m\n\u001b[1;31mSyntaxError\u001b[0m\u001b[1;31m:\u001b[0m invalid syntax\n"
     ]
    }
   ],
   "source": [
    "num1 = 42\n",
    "num2 = 14\n",
    "\n",
    "def gcd(a, b):\n",
    "    if a< b:\n",
    "        (a, b) = (b, a)\n",
    "# 큰 수를 작은 수로 나눈다\n",
    "# 나머지로 작은 수를 나눈다\n",
    "# 나머지가 0일 때까지 반복한다\n",
    "\n",
    "        \n",
    "#최대공약수\n",
    "gcd =\n",
    "#최소공배수\n",
    "lcm ="
   ]
  }
 ],
 "metadata": {
  "kernelspec": {
   "display_name": "Python 3",
   "language": "python",
   "name": "python3"
  },
  "language_info": {
   "codemirror_mode": {
    "name": "ipython",
    "version": 3
   },
   "file_extension": ".py",
   "mimetype": "text/x-python",
   "name": "python",
   "nbconvert_exporter": "python",
   "pygments_lexer": "ipython3",
   "version": "3.6.7"
  }
 },
 "nbformat": 4,
 "nbformat_minor": 2
}
