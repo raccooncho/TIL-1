{
 "cells": [
  {
   "cell_type": "markdown",
   "metadata": {},
   "source": [
    "# 시작하기전에\n",
    "\n",
    "<wikipedia - 객체지향 프로그래밍> \n",
    ">\n",
    "> 객체 지향 프로그래밍(영어: Object-Oriented Programming, OOP)은 컴퓨터 프 로그래밍의 패러다임의 하나이다. 객체 지향 프로그래밍은 컴퓨터 프로그램을 명령어의 목록으로 보는 시각에서 벗어나 여러 개의 독립된 단위, 즉 \"객체\"들의 모임으로 파악하고자 하는 것이다. 각각의 객체는 메시지를 주고받고, 데이터를 처리할 수 있다.\n",
    ">\n",
    "> 명령형 프로그래밍인 절차지향 프로그래밍에서 발전된 형태를 나타내며, 기본 구성요소는 다음과 같다.\n",
    "\n",
    "* 클래스(Class) - 같은 종류(또는 문제 해결을 위한)의 집단에 속하는 속성(attribute)과 행위(behavior)를 정의한 것으로 객체지향 프로그램의 기본적인 사용자 정의 데이터형(user define data type)이라고 할 수 있다. 클래스는 프로그래머가 아니지만 해결해야 할 문제가 속하는 영역에 종사하는 사람이라면 사용할 수 있고, 다른 클래스 또는 외부 요소와 독립적으로 디자인하여야 한다.\n",
    "\n",
    "\n",
    "* 인스턴스 - 클래스의 인스턴스(실제로 메모리상에 할당된 것)이다. 객체는 자신 고유의 속성(attribute)을 가지며 클래스에서 정의한 행위(behavior)를 수행할 수 있다. 객체의 행위는 클래스에 정의된 행위에 대한 정의를 공유함으로써 메모리를 경제적으로 사용한다.\n",
    "\n",
    "\n",
    "* 메서드(Method) - 클래스로부터 생성된 객체를 사용하는 방법으로서 객체에 명령을 내리는 것이라 할 수 있다. 메서드는 한 객체의 속성을 조작하는 데 사용된다."
   ]
  },
  {
   "cell_type": "code",
   "execution_count": null,
   "metadata": {},
   "outputs": [],
   "source": [
    "# 복소수를 하나 만들어보고, 타입을 출력해봅시다.\n",
    "img_number = 3 + 4j\n",
    "print(type(img_number ** 2))"
   ]
  },
  {
   "cell_type": "code",
   "execution_count": null,
   "metadata": {},
   "outputs": [],
   "source": [
    "# 허수부랑 실수부를 함께 출력해봅시다.\n",
    "print(img_number.real)\n",
    "print(img_number.imag)   #이들을 함수일까? > no"
   ]
  },
  {
   "cell_type": "code",
   "execution_count": null,
   "metadata": {},
   "outputs": [],
   "source": [
    "# 리스트를 하나 만들고 정렬해봅시다.\n",
    "a = [3, 2, 1]\n",
    "a.sort()\n",
    "print(a)"
   ]
  },
  {
   "cell_type": "code",
   "execution_count": null,
   "metadata": {},
   "outputs": [],
   "source": [
    "# 리스트가 할 수 있는 것들을 알아봅시다. = list class의 object가 할 수 있는 것\n",
    "print(dir(list))"
   ]
  },
  {
   "cell_type": "markdown",
   "metadata": {},
   "source": [
    "## 실습 문제\n",
    "\n",
    "> 프로그래밍으로 나와 친구의 이름을 저장해보세요.\n",
    ">\n",
    "\n",
    "**각자의 명함과 지갑을 만들어봅시다.**\n",
    "\n",
    "* 내 생일, 전화번호, 이메일주소 정보를 담은 변수를 확인해봅시다.\n",
    "\n",
    "* 주머니(pocket)에는 돈(won)을 포함하여 현재 가지고 있는 것을 작성해보세요.\n",
    "\n",
    "* 나는 인사를 하면서 내 명함에 있는 정보 하나를 이야기합니다. `greeting` 함수를 만듭시다.\n",
    "\n",
    "* 나는 주머니에 원하는 것과 갯수를 지정하여 넣을 수 있습니다. \n",
    "\n",
    "  기존에 값이 있으면, 갯수를 추가하고 없으면 새로 만드는 `in_my_pocket` 함수를 만듭시다.\n",
    "  \n",
    "**친구의 정보와 지갑도 만들어봅시다.**"
   ]
  },
  {
   "cell_type": "code",
   "execution_count": null,
   "metadata": {},
   "outputs": [],
   "source": [
    "# 아래에 자유롭게 코드를 작성해보세요.\n",
    "my_info = {\n",
    "    'name': 'mnoko',\n",
    "    'phone': '01057582717',\n",
    "    'email': 'srs99125@nave.com'\n",
    "}\n",
    "\n",
    "my_pocket = {\n",
    "    'money': 1000,\n",
    "    'card': 3,\n",
    "    'photo': 4\n",
    "}\n",
    "\n",
    "def greeting(info):\n",
    "    print('Hi!!')\n",
    "    for k, v in info.items():\n",
    "        print(f'my {k} is {v}')\n",
    "    \n",
    "greeting(my_info)\n",
    "\n",
    "def in_my_pocket(pocket, stuff, count):\n",
    "    if pocket.get(stuff):\n",
    "        pocket[stuff] += count\n",
    "    else:\n",
    "        pocket[stuff] = count\n",
    "    return pocket\n",
    "print(in_my_pocket(my_pocket, 'trash', 1))\n",
    "          \n"
   ]
  },
  {
   "cell_type": "code",
   "execution_count": null,
   "metadata": {},
   "outputs": [],
   "source": [
    "# 이름과 github username\n",
    "\n",
    "info_1 = {\n",
    "    'name': '이종화',\n",
    "    'git_id': 'brbu11'    \n",
    "}\n",
    "\n",
    "info_2 = {\n",
    "    'name' : '고재두',\n",
    "    'git_id': 'nadarm'\n",
    "}\n",
    "info_3 = {\n",
    "    'name': '이상택',\n",
    "    'git_id': 'mnoko33'\n",
    "}\n",
    "\n",
    "def arrive_mate():    \n",
    "    print('화장실에 간다.')\n",
    "    print('출석을 찍는다.')\n",
    "    print('물을 뜬다')\n",
    "        \n",
    "arrive(info_1)"
   ]
  },
  {
   "cell_type": "code",
   "execution_count": null,
   "metadata": {},
   "outputs": [],
   "source": [
    "mates = {\n",
    "    'person_1': {\n",
    "        'name': '이종화',\n",
    "        'git_id': 'brbu11'    \n",
    "    },\n",
    "    'person_2': {\n",
    "        'name': '고재두',\n",
    "        'git_id': 'nadarm'\n",
    "    },\n",
    "    'person_3': {\n",
    "        'name': '이상택',\n",
    "        'git_id': 'mnoko33'\n",
    "    }\n",
    "}"
   ]
  },
  {
   "cell_type": "code",
   "execution_count": 59,
   "metadata": {},
   "outputs": [
    {
     "name": "stdout",
     "output_type": "stream",
     "text": [
      "이종화은 도착하면 물뜨기 를 합니다.\n",
      "이종화 O brbu11\n",
      "3 703\n"
     ]
    }
   ],
   "source": [
    "class Mate:\n",
    "    classroom = 703\n",
    "    ban = 3\n",
    "    breath = True\n",
    "    def __init__(self, name, github, blood, arrive):\n",
    "        self.name = name\n",
    "        self.blood = blood\n",
    "        self.github = github\n",
    "        self.arrive = arrive    \n",
    "    \n",
    "    def intro(self):\n",
    "        print(f'안녕하세요! 제 이름은 {self.name}입니다')\n",
    "        print(f'제 github id 는 {self.github} 이고, 혈액형은 {self.blood}입니다.')\n",
    "\n",
    "    def get_info(self):\n",
    "        print(self.name, self.blood, self.github)\n",
    "    \n",
    "    def dochak(self):\n",
    "        print(f'{self.name}은 도착하면 {self.arrive} 를 합니다.')\n",
    "        \n",
    "person_1 = Mate('이종화', 'brbu11', 'O', '물뜨기')\n",
    "person_1.dochak()\n",
    "\n",
    "\n",
    "              \n",
    "person_1.get_info()\n",
    "person_1.intro\n",
    "print(person_1.ban, person_1.classroom)\n",
    "#person_2.dochak()"
   ]
  },
  {
   "cell_type": "code",
   "execution_count": 2,
   "metadata": {},
   "outputs": [
    {
     "name": "stdout",
     "output_type": "stream",
     "text": [
      "True\n",
      "한글자만 넣어라abc\n",
      "ㅋㅋㅋㅋㅋ\n"
     ]
    },
    {
     "data": {
      "text/plain": [
       "False"
      ]
     },
     "execution_count": 2,
     "metadata": {},
     "output_type": "execute_result"
    }
   ],
   "source": [
    "class Text:\n",
    "    def __init__(self, content):\n",
    "        self.content = content\n",
    "        \n",
    "    def is_palindrome(self):\n",
    "        txt = self.content.replace(' ', '').lower()\n",
    "        return txt == ''.join(reversed(txt))\n",
    "    \n",
    "    def start_hangman(self):\n",
    "        guess = input('한글자만 넣어라')\n",
    "        if guess in self.content:\n",
    "            print('오 맞음!')\n",
    "            return True\n",
    "        else:\n",
    "            print('ㅋㅋㅋㅋㅋ')\n",
    "            return False\n",
    "\n",
    "        \n",
    "my_text = Text('A santa at NASA')\n",
    "print(my_text.is_palindrome())\n",
    "\n",
    "your_text = Text('apple')\n",
    "your_text.start_hangman()\n",
    "#Text('apple').start_hangman()"
   ]
  },
  {
   "cell_type": "code",
   "execution_count": null,
   "metadata": {},
   "outputs": [],
   "source": [
    "# in_my_pocket 함수를 통해 내 주머니에 내용을 추가해봅시다."
   ]
  },
  {
   "cell_type": "code",
   "execution_count": null,
   "metadata": {},
   "outputs": [],
   "source": [
    "# greeting 함수를 통해 인사를 해봅시다.\n",
    "#=> 안녕, kim이야. 01012345678"
   ]
  },
  {
   "cell_type": "markdown",
   "metadata": {},
   "source": [
    "# 클래스 및 인스턴스"
   ]
  },
  {
   "cell_type": "markdown",
   "metadata": {},
   "source": [
    "## 클래스 객체\n",
    "\n",
    "```python\n",
    "class ClassName:\n",
    "    \n",
    "```\n",
    "\n",
    "* 선언과 동시에 클래스 객체가 생성됨.\n",
    "\n",
    "* 또한, 선언된 공간은 지역 스코프로 사용된다.\n",
    "\n",
    "* 정의된 어트리뷰트 중 변수는 멤버 변수로 불리운다.\n",
    "\n",
    "* 정의된 함수(`def`)는 메서드로 불리운다."
   ]
  },
  {
   "cell_type": "code",
   "execution_count": 13,
   "metadata": {},
   "outputs": [
    {
     "name": "stdout",
     "output_type": "stream",
     "text": [
      "<class 'type'>\n",
      "<class '__main__.TestClass'>\n"
     ]
    }
   ],
   "source": [
    "# Class를 만들어봅시다.\n",
    "#class는 _ 대신에 대문자로 바꾼다 /upper camel case라고 한다\n",
    "class TestClass:\n",
    "    \"\"\"Test Class\"\"\"\n",
    "\n",
    "print(type(TestClass))\n",
    "\n",
    "tc = TestClass()  #tc는 객체\n",
    "print(type(tc))"
   ]
  },
  {
   "cell_type": "code",
   "execution_count": 35,
   "metadata": {},
   "outputs": [
    {
     "name": "stdout",
     "output_type": "stream",
     "text": [
      "HELLO!\n"
     ]
    },
    {
     "data": {
      "text/plain": [
       "'홍길동'"
      ]
     },
     "execution_count": 35,
     "metadata": {},
     "output_type": "execute_result"
    }
   ],
   "source": [
    "# Person 클래스를 만들어봅시다.\n",
    "class Person:\n",
    "    name = '홍길동'\n",
    "    \n",
    "    def say_hi(self):\n",
    "        print('HELLO!')\n",
    "        \n",
    "    def intro(self):\n",
    "        print(f'I am {self.name}')\n",
    "p = Person()\n",
    "\n",
    "p.say_hi()\n",
    "p.name"
   ]
  },
  {
   "cell_type": "markdown",
   "metadata": {},
   "source": [
    "* 선언시 self는 반드시 작성해주세요! 나중에 설명드립니다."
   ]
  },
  {
   "cell_type": "markdown",
   "metadata": {},
   "source": [
    "## 인스턴스 객체\n",
    "\n",
    "* 인스턴스 객체는 `ClassName()`을 호출함으로써 선언된다.\n",
    "\n",
    "* 인스턴스 객체와 클래스 객체는 서로 다른 이름 공간을 가지고 있다.\n",
    "\n",
    "* 인스턴스 -> 클래스 -> 전역 순으로 탐색을 한다."
   ]
  },
  {
   "cell_type": "code",
   "execution_count": 37,
   "metadata": {},
   "outputs": [],
   "source": [
    "# 클래스 Person에 iu라는 인스턴스를 만들어봅시다. \n",
    "iu = Person()"
   ]
  },
  {
   "cell_type": "code",
   "execution_count": 38,
   "metadata": {},
   "outputs": [
    {
     "name": "stdout",
     "output_type": "stream",
     "text": [
      "HELLO!\n"
     ]
    }
   ],
   "source": [
    "# 인사하는 메서드를 호출해봅시다.\n",
    "iu.say_hi()"
   ]
  },
  {
   "cell_type": "code",
   "execution_count": 39,
   "metadata": {},
   "outputs": [
    {
     "data": {
      "text/plain": [
       "'홍길동'"
      ]
     },
     "execution_count": 39,
     "metadata": {},
     "output_type": "execute_result"
    }
   ],
   "source": [
    "# iu의 이름을 확인해봅시다.\n",
    "iu.name"
   ]
  },
  {
   "cell_type": "code",
   "execution_count": 40,
   "metadata": {},
   "outputs": [
    {
     "name": "stdout",
     "output_type": "stream",
     "text": [
      "IU\n"
     ]
    }
   ],
   "source": [
    "# iu로 이름을 바꿔주세요.\n",
    "iu.name = 'IU'\n",
    "print(iu.name)"
   ]
  },
  {
   "cell_type": "code",
   "execution_count": 41,
   "metadata": {},
   "outputs": [
    {
     "name": "stdout",
     "output_type": "stream",
     "text": [
      "I am IU\n"
     ]
    }
   ],
   "source": [
    "# iu가 인사를 합니다.\n",
    "iu.intro()"
   ]
  },
  {
   "cell_type": "code",
   "execution_count": 43,
   "metadata": {},
   "outputs": [
    {
     "data": {
      "text/plain": [
       "True"
      ]
     },
     "execution_count": 43,
     "metadata": {},
     "output_type": "execute_result"
    }
   ],
   "source": [
    "# iu와 Person이 같은지 확인해보겠습니다.\n",
    "isinstance(iu, Person)\n",
    "\n",
    "#if isinstance(user_input, list):  식으로 사용할 수 있다"
   ]
  },
  {
   "cell_type": "code",
   "execution_count": 45,
   "metadata": {},
   "outputs": [
    {
     "data": {
      "text/plain": [
       "True"
      ]
     },
     "execution_count": 45,
     "metadata": {},
     "output_type": "execute_result"
    }
   ],
   "source": [
    "# iu와 Person이 같은지 확인해보겠습니다.\n",
    "type(iu) == Person\n",
    "type('a') == str"
   ]
  },
  {
   "cell_type": "code",
   "execution_count": 47,
   "metadata": {},
   "outputs": [
    {
     "name": "stdout",
     "output_type": "stream",
     "text": [
      "<__main__.Person object at 0x0000022FCD84B588>\n"
     ]
    }
   ],
   "source": [
    "# iu를 출력해봅시다.\n",
    "print(iu)  #메모리상 어딘가에 고정되어있는 객체 iu"
   ]
  },
  {
   "cell_type": "code",
   "execution_count": 48,
   "metadata": {},
   "outputs": [
    {
     "data": {
      "text/plain": [
       "<__main__.Person at 0x22fcd84b588>"
      ]
     },
     "execution_count": 48,
     "metadata": {},
     "output_type": "execute_result"
    }
   ],
   "source": [
    "# iu를 출력해봅시다 2.\n",
    "iu"
   ]
  },
  {
   "cell_type": "code",
   "execution_count": 49,
   "metadata": {},
   "outputs": [
    {
     "data": {
      "text/plain": [
       "__main__.Person"
      ]
     },
     "execution_count": 49,
     "metadata": {},
     "output_type": "execute_result"
    }
   ],
   "source": [
    "# type을 확인해봅시다.\n",
    "type(iu)"
   ]
  },
  {
   "cell_type": "markdown",
   "metadata": {},
   "source": [
    "* 파이썬 출력의 비밀 : repr, str"
   ]
  },
  {
   "cell_type": "code",
   "execution_count": null,
   "metadata": {},
   "outputs": [],
   "source": []
  },
  {
   "cell_type": "code",
   "execution_count": 50,
   "metadata": {},
   "outputs": [],
   "source": [
    "# 강다니엘을 만들어봅시다.\n",
    "kang = Person()"
   ]
  },
  {
   "cell_type": "code",
   "execution_count": 54,
   "metadata": {},
   "outputs": [
    {
     "name": "stdout",
     "output_type": "stream",
     "text": [
      "Daniel Kang\n",
      "I am Daniel Kang\n"
     ]
    }
   ],
   "source": [
    "# 강다니엘을 출력해봅시다.\n",
    "kang.name = 'Daniel Kang'\n",
    "print(kang.name)\n",
    "kang.intro()"
   ]
  },
  {
   "cell_type": "markdown",
   "metadata": {},
   "source": [
    "## 실습 문제 발전\n",
    "\n",
    "> 지금까지 배운 것을 통해서 Person 클래스를 만들고, 친구와 나를 표현해봅시다.\n",
    ">\n",
    "> 주머니와 정보를 가지고 있고 (멤버 변수)\n",
    "> \n",
    "> 인사(`greeting()`)와 주머니에 내용을 추가(`in_my_pocket()`)할 수 있습니다. (메서드)\n",
    ">\n",
    "> 추가적으로 `get_my_pocket()`으로 지갑에 담긴 정보를 가져와 봅시다.\n",
    ">\n",
    "> 그리고 사람을 출력하면, 지갑을 제외한 정보를 보여줘보세요. "
   ]
  },
  {
   "cell_type": "code",
   "execution_count": null,
   "metadata": {},
   "outputs": [],
   "source": [
    "# 아래에 코드를 작성해주세요.\n"
   ]
  },
  {
   "cell_type": "markdown",
   "metadata": {},
   "source": [
    "## MyList만들기\n",
    "\n",
    "> 이제 배운 것을 활용하여 나만의 리스트 객체를 만들 수 있습니다. \n",
    ">\n",
    "> `class MyList:`\n",
    ">\n",
    "\n",
    "```\n",
    "* 변수\n",
    "data : 비어 있는 리스트\n",
    "\n",
    "* 메서드 \n",
    "append : 값을 받아 추가합니다.\n",
    "pop : 마지막에 있는 값을 없애고, 해당 값을 리턴합니다.\n",
    "reverse : 제자리에서 뒤집고 리턴 값은 없습니다.\n",
    "count(x) : x의 갯수를 반환합니다.\n",
    "clear : 값을 모두 삭제합니다.\n",
    "\n",
    "__repr__ : ex) '리스트 내용 1, 2, 3'\n",
    "```"
   ]
  },
  {
   "cell_type": "code",
   "execution_count": null,
   "metadata": {},
   "outputs": [],
   "source": [
    "# 아래에 코드를 작성해주세요."
   ]
  },
  {
   "cell_type": "markdown",
   "metadata": {},
   "source": [
    "## 자유롭게 만들어보기\n",
    "\n",
    "> 이 세상에 있는 무엇인가를 자유롭게 표현해주세요."
   ]
  },
  {
   "cell_type": "code",
   "execution_count": 8,
   "metadata": {},
   "outputs": [
    {
     "name": "stdout",
     "output_type": "stream",
     "text": [
      "피카츄2이/가 피카츄1을 공격했다. 피카츄1은 15의 피해를 입었다.\n",
      "피카츄1의 hp가 41남았다.\n",
      "\n",
      "피카츄2이/가 피카츄1을 공격했다. 피카츄1은 15의 피해를 입었다.\n",
      "피카츄1의 hp가 32남았다.\n",
      "\n",
      "피카츄2이/가 피카츄1을 공격했다. 피카츄1은 15의 피해를 입었다.\n",
      "피카츄1의 hp가 23남았다.\n",
      "\n",
      "피카츄1이/가 피카츄2을 공격했다. 피카츄2은 15의 피해를 입었다.\n",
      "피카츄2의 hp가 21남았다.\n",
      "\n",
      "피카츄2이/가 피카츄1을 공격했다. 피카츄1은 15의 피해를 입었다.\n",
      "피카츄1의 hp가 14남았다.\n",
      "\n",
      "피카츄1이/가 피카츄2을 공격했다. 피카츄2은 15의 피해를 입었다.\n",
      "피카츄2의 hp가 12남았다.\n",
      "\n",
      "피카츄2이/가 피카츄1을 공격했다. 피카츄1은 15의 피해를 입었다.\n",
      "피카츄1의 hp가 5남았다.\n",
      "\n",
      "피카츄1이/가 피카츄2을 공격했다. 피카츄2은 15의 피해를 입었다.\n",
      "피카츄2의 hp가 3남았다.\n",
      "\n",
      "피카츄2이/가 피카츄1을 공격했다. 피카츄1은 15의 피해를 입었다.\n",
      "피카츄1의 hp가 -4남았다.\n",
      "\n",
      "피카츄2 의 승리\n"
     ]
    }
   ],
   "source": [
    "# 아래에 코드를 작성해주세요.\n",
    "\n",
    "class Pokemon:\n",
    "    def __init__(self, name, level):   # init은 초기화를 의미  self 는 객체 그 자체의 이름\n",
    "        self.name = name  # 앞의 이름은 '객체의 이름'에서의 이름 / 뒤의 이름은 위에 parameter의 name이다\n",
    "        self.level = level\n",
    "        self.hp = level * 10\n",
    "        \n",
    "    def set_hp(self, point):\n",
    "        self.hp += point\n",
    "    \n",
    "    def check_status(self):\n",
    "        if self.hp > 0:\n",
    "            return True\n",
    "        else:\n",
    "            return False\n",
    "        \n",
    "    def body_attack(self, enemy):\n",
    "        self.enemy.set_hp(-7)\n",
    "    \n",
    "    def volt_attack(self, enemy):\n",
    "        self.enemy.set_hp(-9)\n",
    "        \n",
    "    def check_hp(self):\n",
    "        return self.hp\n",
    "        \n",
    "    \n",
    "        \n",
    "        \n",
    "    \n",
    "a = Pokemon('피카츄1', 5) # name & level\n",
    "b = Pokemon('피카츄2', 3)\n",
    "\n",
    "'''\n",
    "if a.check_status():\n",
    "    a.body_attack(b)\n",
    "    print(b.hp)\n",
    "else:\n",
    "    print(f'{b.name} 의 승리')\n",
    "'''\n",
    "    \n",
    "while a.check_status and b.check_status:\n",
    "    if a.hp >= b.hp:\n",
    "        b.volt_attack(a)\n",
    "        print(f'{b.name}이/가 {a.name}을 공격했다. {a.name}은 15의 피해를 입었다.')\n",
    "        print(f'{a.name}의 hp가 {a.hp}남았다.')\n",
    "        print()\n",
    "    else:\n",
    "        a.volt_attack(b)\n",
    "        print(f'{a.name}이/가 {b.name}을 공격했다. {b.name}은 15의 피해를 입었다.')\n",
    "        print(f'{b.name}의 hp가 {b.hp}남았다.')\n",
    "        print()\n",
    "    \n",
    "    if a.check_status() == False:\n",
    "        print(f'{b.name} 의 승리')\n",
    "        break\n",
    "    elif b.check_status() == False:\n",
    "        print(f'{a.name} 의 승리')\n",
    "        break\n",
    "        \n",
    "\n",
    "        \n",
    "        \n",
    "            \n",
    "        \n",
    "    \n",
    "        \n",
    "        \n",
    "    "
   ]
  },
  {
   "cell_type": "code",
   "execution_count": null,
   "metadata": {},
   "outputs": [],
   "source": [
    "#상속시키기\n",
    "\n",
    "#class Pikachu(Pokemon): 하면 위의 Pokemon class의 메소드를 상속받는다"
   ]
  }
 ],
 "metadata": {
  "kernelspec": {
   "display_name": "Python 3",
   "language": "python",
   "name": "python3"
  },
  "latex_envs": {
   "LaTeX_envs_menu_present": true,
   "autoclose": false,
   "autocomplete": true,
   "bibliofile": "biblio.bib",
   "cite_by": "apalike",
   "current_citInitial": 1,
   "eqLabelWithNumbers": true,
   "eqNumInitial": 1,
   "hotkeys": {
    "equation": "Ctrl-E",
    "itemize": "Ctrl-I"
   },
   "labels_anchors": false,
   "latex_user_defs": false,
   "report_style_numbering": false,
   "user_envs_cfg": false
  },
  "toc": {
   "base_numbering": 1,
   "nav_menu": {},
   "number_sections": true,
   "sideBar": true,
   "skip_h1_title": false,
   "title_cell": "Table of Contents",
   "title_sidebar": "Contents",
   "toc_cell": false,
   "toc_position": {},
   "toc_section_display": true,
   "toc_window_display": false
  }
 },
 "nbformat": 4,
 "nbformat_minor": 2
}
