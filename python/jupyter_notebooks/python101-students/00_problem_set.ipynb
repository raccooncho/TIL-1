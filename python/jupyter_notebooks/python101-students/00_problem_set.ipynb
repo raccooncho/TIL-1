{
 "cells": [
  {
   "cell_type": "markdown",
   "metadata": {},
   "source": [
    "### Problem set"
   ]
  },
  {
   "cell_type": "markdown",
   "metadata": {},
   "source": [
    "**190108**"
   ]
  },
  {
   "cell_type": "markdown",
   "metadata": {},
   "source": [
    "## 1. 이상한 덧셈\n",
    "> 숫자로 구성된 리스트에서 양의 정수의 합을 구하는 함수, `positive_sum`을 만들어 보아요\n",
    "\n",
    "예시)\n",
    "```python\n",
    "positive_sum([1, -10, 2]) # 3\n",
    "positive_sum([-1, -2, -3, -4]) # 0\n",
    "```"
   ]
  },
  {
   "cell_type": "code",
   "execution_count": null,
   "metadata": {},
   "outputs": [],
   "source": [
    "def positive_sum(list):\n",
    "    list_sum = 0\n",
    "    for i in list:\n",
    "        if i > 0:\n",
    "            list_sum += i\n",
    "    return list_sum\n",
    "\n",
    "positive_sum([1, -10, 2])\n",
    "positive_sum([-1, -2, -3, -4])"
   ]
  },
  {
   "cell_type": "code",
   "execution_count": null,
   "metadata": {},
   "outputs": [],
   "source": [
    "# 교수님 코드\n",
    "def positive_sum(numbers):\n",
    "    total = 0\n",
    "    for number in numbers:\n",
    "        if number > 0:\n",
    "            total += number\n",
    "    return total\n",
    "\n",
    "positive_sum([1, -10, 2])"
   ]
  },
  {
   "cell_type": "code",
   "execution_count": null,
   "metadata": {},
   "outputs": [],
   "source": [
    "# 고급 문법 쓰기\n",
    "\n",
    "def pos_sum(numbers):\n",
    "    return sum(x for x in numbers if x > 0)\n",
    "\n",
    "print(pos_sum([-1, -2, -3, -4]))\n",
    "print(pos_sum([-1, -2, 3, 4, 10]))"
   ]
  },
  {
   "cell_type": "markdown",
   "metadata": {},
   "source": [
    "### 2. 문자열 탐색\n",
    "> 문자열 요소로만 이루어진 리스트를 넣었을 때, 문자열의 길이가 2 이상이고 주어진 문자열의 첫 번째와 마지막 문자가 같은 문자열의 수를 세는 함수 `start_end`를 작성하세요\n",
    "\n",
    "예시)\n",
    "```python\n",
    "start_end(['level', 'asdwe', 's', 'abadsfa', 'q1q']) # 3\n",
    "```"
   ]
  },
  {
   "cell_type": "code",
   "execution_count": null,
   "metadata": {},
   "outputs": [],
   "source": [
    "def start_end(list):\n",
    "    count_str = 0\n",
    "    for str in list:\n",
    "        if len(str) >= 2:\n",
    "            if str[0] == str[-1]:\n",
    "                count_str += 1\n",
    "    return count_str\n",
    "\n",
    "start_end(['level', 'asdwe', 's', 'abadsfa', 'q1q'])"
   ]
  },
  {
   "cell_type": "code",
   "execution_count": null,
   "metadata": {},
   "outputs": [],
   "source": [
    "# 교수님\n",
    "def start_end(words):\n",
    "    count = 0\n",
    "    for word in words:\n",
    "        if len(word) > 1 and word[0] == word[-1]:\n",
    "            count += 1\n",
    "    return count\n",
    "\n",
    "start_end(['level', 'asdwe', 's', 'abadsfa', 'q1q'])"
   ]
  },
  {
   "cell_type": "markdown",
   "metadata": {},
   "source": [
    "### 3. Collatz\n",
    "> collatz 추측 : 어떤 자연수 n이던지, 다음과 같은 작업을 반복하면 1로 만들 수 있다\n",
    "1. n이 짝수라면 2로 나눈다.\n",
    "2. n이 홀수라면 3을 곱하고 1을 더한다.\n",
    "3. 결과로 나온 수에 1 / 2 의 작업을 1이 될 때까지 반복한다\n",
    "\n",
    ">예를 들어 n 이 6이면, 6 => 3 => 10 => 5 => 16 => 8 => 4 => 2 => 1이 되며 8번(=> 갯수!) 만에 1이 됩니다. 자연수 n이 들어왔을 때, 몇번의 작업만에 1이 되는지 `return` 하는 함수 `collatz()` 를 완성하세요\n",
    "\n",
    ">단! 500 번을 넘어가도 1이 되지 않는다면, -1을 `return` 할게요!\n",
    "\n",
    "예시)\n",
    "```python\n",
    "collatz(6) # 8\n",
    "collatz(16) # 4\n",
    "collatz(6263313) # -1\n",
    "```"
   ]
  },
  {
   "cell_type": "code",
   "execution_count": null,
   "metadata": {},
   "outputs": [],
   "source": [
    "def collatz(n):\n",
    "    count = 0\n",
    "    while n != 1:\n",
    "        if n % 2 == 0:\n",
    "            n = n / 2\n",
    "            count += 1\n",
    "        else:\n",
    "            n = 3 * n + 1\n",
    "            count += 1\n",
    "    if count <= 500:\n",
    "        return count\n",
    "    else:\n",
    "        return -1\n",
    "\n",
    "collatz(626331)"
   ]
  },
  {
   "cell_type": "code",
   "execution_count": null,
   "metadata": {},
   "outputs": [],
   "source": [
    "# 교수님 코드\n",
    "\n",
    "def collatz(num):\n",
    "    for i in range(500):\n",
    "        if num % 2:\n",
    "            num = num * 3 + 1\n",
    "        else:\n",
    "            num = num / 2\n",
    "        if num == 1:\n",
    "            return i + 1\n",
    "    return - 1\n",
    "collatz(626331)"
   ]
  },
  {
   "cell_type": "markdown",
   "metadata": {},
   "source": [
    "### 4. 솔로 천국\n",
    "> 리스트가 주어질 때, 리스트의 요소 `e`는 `range(0, 10)` 에 포함되는 자연수이다. 리스트에서 연속적으로 나타나는 숫자는 하나만 남기고 전부 제거하여 `return`하는 함수 `lonely()` 를 작성해 보세요. 이때! 제거된 후 남는 수들을 반환할 때는 리스트의 요소들이 순서를 유지해야 합니다!\n",
    "\n",
    "예시)\n",
    "```python\n",
    "lonely([1, 1, 3, 3, 0, 1, 1, 3, 0, 3]) #[1, 3, 0]\n",
    "lonely([4, 4, 3, 3, 3, 4] # [4, 3]\n",
    "```"
   ]
  },
  {
   "cell_type": "code",
   "execution_count": null,
   "metadata": {},
   "outputs": [],
   "source": [
    "def lonely(list):\n",
    "    order = 0\n",
    "    number = 0\n",
    "    new_list = []\n",
    "    for order in range(0,len(list)):\n",
    "        if order == 0:\n",
    "            number = list[0]\n",
    "        else:\n",
    "            if list[order] in new_list:\n",
    "                number = list[order]\n",
    "            \n",
    "            elif number == list[order]:\n",
    "                new_list.append(number)\n",
    "            else:\n",
    "                number = list[order]\n",
    "\n",
    "    return new_list\n",
    "\n",
    "\n",
    "print(lonely([1, 1, 3, 3, 0, 1, 1, 3, 0, 3]))\n",
    "print(lonely([4, 4, 3, 3, 3, 4]))\n",
    "print(lonely([1, 1, 1, 1, 2, 3, 4, 5, 5, 6, 6, 7, 7, 7, 4, 4, 3]))"
   ]
  },
  {
   "cell_type": "code",
   "execution_count": null,
   "metadata": {},
   "outputs": [],
   "source": [
    "#교수님 코드\n",
    "def lonely(numbers):\n",
    "    result = []\n",
    "    for number in numbers:\n",
    "        if not result: #리스트가 비어있는지 묻는 법\n",
    "            result.append(number)\n",
    "        elif result[-1] != number:\n",
    "            if result.count(number) == 0:\n",
    "                result.append(number)\n",
    "    return result\n",
    "            \n",
    "print(lonely([1, 1, 3, 3, 0, 1, 1, 3, 0, 3]))\n",
    "print(lonely([4, 4, 3, 3, 3, 4]))\n",
    "print(lonely([1, 1, 1, 1, 2, 3, 4, 5, 5, 6, 6, 7, 7, 7, 4, 4, 3]))"
   ]
  },
  {
   "cell_type": "markdown",
   "metadata": {},
   "source": [
    "### 5. *RGB 삼각형\n",
    ">입력으로 `'R', 'G', 'B'`가 섞여있는 문자열이 들어온다. 문자열은 다음과 같이 합쳐진다. 해당 문자열을 처리하여 마지막 색깔만 `return`하는 `triangle()`을 작성하세요.\n",
    "```\n",
    "R R G B R G B B\n",
    " R B R G B R B\n",
    "  G G B R G G\n",
    "   G R G B G\n",
    "    B B R R\n",
    "     B G R\n",
    "      R B\n",
    "       G\n",
    "```\n",
    "예시)\n",
    "```python\n",
    "triangle('RRGBRGBB') # G\n",
    "triangle('GB') # R\n",
    "triangle('B') # B\n",
    "triangle('RGBG') # B\n",
    "```"
   ]
  },
  {
   "cell_type": "code",
   "execution_count": null,
   "metadata": {},
   "outputs": [],
   "source": [
    "#반복문\n",
    "rgb_str = 'RRGBRGBB'\n",
    "rgb_list = list(rgb_str)\n",
    "new_list = []\n",
    "for i in range(0, len(rgb_list) - 1):\n",
    "    rgb_1 = rgb_list[i]\n",
    "    rgb_2 = rgb_list[i + 1]\n",
    "    if (rgb_1, rgb_2) == ('G', 'B')\\\n",
    "    or (rgb_1, rgb_2) == ('B', 'G')\\\n",
    "    or (rgb_1, rgb_2) == ('R', 'R'):\n",
    "        new_list.append('R')\n",
    "    elif (rgb_1, rgb_2) == ('R', 'B')\\\n",
    "    or (rgb_1, rgb_2) == ('B', 'R')\\\n",
    "    or (rgb_1, rgb_2) == ('G', 'G'):\n",
    "        new_list.append('G')\n",
    "    elif (rgb_1, rgb_2) == ('G', 'R')\\\n",
    "    or (rgb_1, rgb_2) == ('R', 'G')\\\n",
    "    or (rgb_1, rgb_2) == ('B', 'B'):\n",
    "        new_list.append('B')\n",
    "        \n",
    "        \n",
    "print(new_list)"
   ]
  },
  {
   "cell_type": "code",
   "execution_count": 2,
   "metadata": {},
   "outputs": [
    {
     "name": "stdout",
     "output_type": "stream",
     "text": [
      "['G']\n",
      "['R']\n",
      "['B']\n",
      "['B']\n"
     ]
    }
   ],
   "source": [
    "#함수\n",
    "def triangle(string):\n",
    "    rgb_list = list(string)\n",
    "    new_list = []\n",
    "    \n",
    "    while len(rgb_list) != 1:  # != 이어야한다\n",
    "        for i in range(0, len(rgb_list) - 1):\n",
    "            rgb_1 = rgb_list[i]\n",
    "            rgb_2 = rgb_list[i + 1]\n",
    "            if (rgb_1, rgb_2) == ('G', 'B')\\\n",
    "            or (rgb_1, rgb_2) == ('B', 'G')\\\n",
    "            or (rgb_1, rgb_2) == ('R', 'R'):\n",
    "                new_list.append('R')\n",
    "            elif (rgb_1, rgb_2) == ('R', 'B')\\\n",
    "            or (rgb_1, rgb_2) == ('B', 'R')\\\n",
    "            or (rgb_1, rgb_2) == ('G', 'G'):\n",
    "                new_list.append('G')\n",
    "            elif (rgb_1, rgb_2) == ('G', 'R')\\\n",
    "            or (rgb_1, rgb_2) == ('R', 'G')\\\n",
    "            or (rgb_1, rgb_2) == ('B', 'B'):\n",
    "                new_list.append('B')\n",
    "        rgb_list = new_list\n",
    "        new_list = []\n",
    "  \n",
    "    return rgb_list\n",
    "\n",
    "print(triangle('RRGBRGBB')) #G\n",
    "print(triangle('GB')) # R\n",
    "print(triangle('B')) # B\n",
    "print(triangle('RGBG')) # B\n",
    "\n",
    "# ***********다시풀어보기************"
   ]
  },
  {
   "cell_type": "code",
   "execution_count": 1,
   "metadata": {},
   "outputs": [
    {
     "name": "stdout",
     "output_type": "stream",
     "text": [
      "R B R G B R B \n",
      " G G B R G G \n",
      "  G R G B G \n",
      "   B B R R \n",
      "    B G R \n",
      "     R B \n",
      "      G \n",
      "['G']\n"
     ]
    }
   ],
   "source": [
    "# RGB 삼각형 만들기\n",
    "def triangle(string):\n",
    "    rgb_list = list(string)\n",
    "    new_list = []\n",
    "    \n",
    "    while len(rgb_list) != 1:  # != 이어야한다\n",
    "        for k in range(0, len(rgb_list) - 1):\n",
    "            print(' ' * k, end='')\n",
    "            for i in range(0, len(rgb_list) - 1):\n",
    "\n",
    "                rgb_1 = rgb_list[i]\n",
    "                rgb_2 = rgb_list[i + 1]\n",
    "                if (rgb_1, rgb_2) == ('G', 'B')\\\n",
    "                or (rgb_1, rgb_2) == ('B', 'G')\\\n",
    "                or (rgb_1, rgb_2) == ('R', 'R'):\n",
    "                    new_list.append('R')\n",
    "                    print('R ', end='')\n",
    "                elif (rgb_1, rgb_2) == ('R', 'B')\\\n",
    "                or (rgb_1, rgb_2) == ('B', 'R')\\\n",
    "                or (rgb_1, rgb_2) == ('G', 'G'):\n",
    "                    new_list.append('G')\n",
    "                    print('G ', end='')\n",
    "                elif (rgb_1, rgb_2) == ('G', 'R')\\\n",
    "                or (rgb_1, rgb_2) == ('R', 'G')\\\n",
    "                or (rgb_1, rgb_2) == ('B', 'B'):\n",
    "                    new_list.append('B')\n",
    "                    print('B ', end='')\n",
    "            print()\n",
    "\n",
    "            \n",
    "            rgb_list = new_list\n",
    "            new_list = []\n",
    "\n",
    "    return rgb_list\n",
    "\n",
    "print(triangle('RRGBRGBB')) #G"
   ]
  },
  {
   "cell_type": "markdown",
   "metadata": {},
   "source": [
    "### 6. (??) 홀수개를 찾아라\n",
    "> 입력으로 list 가 한개 들어옵니다. 이 list에는 1개의 숫자만 홀수개 들어있습니다. 이 1개의 홀수개인 숫자를 `return` 하는 `find_odd()`를 작성하세요\n",
    "\n",
    "예시)\n",
    "```python\n",
    "find_odd([1, 1, 3, 3, 3, 2, 2]) # 3\n",
    "find_odd([2, 1, 2]) # 1\n",
    "find_odd([1, 2, 2, 3, 2, 2, 1]) # 3\n",
    "```"
   ]
  },
  {
   "cell_type": "code",
   "execution_count": null,
   "metadata": {},
   "outputs": [],
   "source": [
    "def find_odd(numbers):\n",
    "    temp_list = numbers\n",
    "    temp_set = set(temp_list)\n",
    "    re_list = list(temp_set)\n",
    "    for i in re_list:\n",
    "        if numbers.count(i) % 2:\n",
    "            return i\n",
    "       \n",
    "    \n",
    "find_odd([1, 1, 3, 3, 3, 2, 2])"
   ]
  },
  {
   "cell_type": "code",
   "execution_count": null,
   "metadata": {},
   "outputs": [],
   "source": [
    "#교수님 코드\n",
    "\n",
    "def find_odd(numbers):\n",
    "    for uniq in list(set(numbers)):\n",
    "        if numbers.count(uniq) % 2:\n",
    "            return uniq\n",
    "        \n",
    "find_odd([1, 1, 3, 3, 3, 2, 2])"
   ]
  },
  {
   "cell_type": "code",
   "execution_count": null,
   "metadata": {},
   "outputs": [],
   "source": [
    "#교수님 코드 2\n",
    "\n",
    "from operator import xor\n",
    "\n",
    "def find_odd_1(numbers):\n",
    "    for uniq in list(set(numbers)):\n",
    "        if numbers.count(uniq) % 2:\n",
    "            return uniq\n",
    "        \n",
    "def find_odd_2(numbers):\n",
    "    result = 0\n",
    "    for n in numbers:\n",
    "        result = result ^ n\n",
    "    return result\n",
    "find_odd_2([1, 2, 2, 3, 2, 2, 1])"
   ]
  },
  {
   "cell_type": "markdown",
   "metadata": {},
   "source": [
    "**20190109**"
   ]
  },
  {
   "cell_type": "markdown",
   "metadata": {},
   "source": [
    "### 1. UP & DOWN\n",
    "> 우리가 `range(1,101)` 중 하나를 생각한다. 컴퓨터가 절반에 위치한 숫자를 물어보고, 그 숫자가 맞으면, 생각한 수보다 크면 1, 작으면 -1, 맞으면 0을 입력한다. 컴퓨터가 이 때 몇번만에 컴퓨터가 우리가 생각하는 숫자를 맞추는지 출력하고 프로그램을 끝낸다.\n",
    "\n",
    "예시)\n",
    "```sh\n",
    "숫자를 생각하세요..\n",
    "50\n",
    "> -1\n",
    "25\n",
    "> -1\n",
    "13\n",
    "> -1\n",
    "7\n",
    "> 1\n",
    "10\n",
    "> 1\n",
    "12\n",
    "> 0\n",
    "6 번만에 맞혔습니다!\n",
    "```\n",
    "\n",
    "```python\n",
    "def guess_up_down():\n",
    "    count = 0\n",
    "    print('숫자를 생각하세요..')\n",
    "    n = 100 // 2\n",
    "    print(n)\n",
    "    count += 1\n",
    "    user_feedback = input('작으면 -1, 맞으면 0, 크면 1이라고 입력해주세요')\n",
    "    ...\n",
    "    \n",
    "    print(f'{count} 번만에 맞혔습니다!')\n",
    "    \n",
    "guess_up_down()\n",
    "```"
   ]
  },
  {
   "cell_type": "code",
   "execution_count": null,
   "metadata": {},
   "outputs": [
    {
     "name": "stdout",
     "output_type": "stream",
     "text": [
      "숫자를 생각해주세요\n",
      "Q. 혹시 생각하신 숫자가 50인가요?\n"
     ]
    }
   ],
   "source": [
    "def guess_up_down(thinking_num):\n",
    "    count = 0\n",
    "    print('숫자를 생각해주세요')\n",
    "    min_N = 0\n",
    "    max_n = 100\n",
    "    n = int((max_n + min_n ) / 2)\n",
    "    print(f'Q. 혹시 생각하신 숫자가 {n}인가요?')\n",
    "    user_input = int(input(f'생각하신 숫자보다 {n}이 작다면 -1, 맞다면 0, 크다면 1을 입력해주세요:  '))\n",
    "    count += 1\n",
    "    while user_input != 0:\n",
    "        if user_input == -1:\n",
    "            max = n\n",
    "            n = int((max_n + min_n ) / 2)\n",
    "            print(f'Q. 그렇다면 혹시 생각하신 숫자가 {n}인가요?', end='')\n",
    "            user_input = int(input(f'생각하신 숫자보다 {n}이 작다면 -1, 맞다면 0, 크다면 1을 입력해주세요:  '))\n",
    "            count += 1\n",
    "        elif user_input == 1:            \n",
    "            min = n\n",
    "            n = int((max_n + min_n ) / 2)\n",
    "            print(f'Q. 그렇다면 혹시 생각하신 숫자가 {n}인가요?', end='')\n",
    "            user_input = int(input(f'생각하신 숫자보다 {n}이 작다면 -1, 맞다면 0, 크다면 1을 입력해주세요:  '))\n",
    "            count += 1\n",
    "    return count\n",
    "    print(f'{count} 번만에 생각하신 숫자를 맞혔습니다!')\n",
    "\n",
    "guess_up_down(1)"
   ]
  },
  {
   "cell_type": "code",
   "execution_count": null,
   "metadata": {},
   "outputs": [
    {
     "name": "stdout",
     "output_type": "stream",
     "text": [
      "숫자를 생각하세요..!\n",
      "50 보다\n"
     ]
    }
   ],
   "source": [
    "#교수님 코드\n",
    "def guess_up_down():\n",
    "    count = 0\n",
    "    max_n = 100\n",
    "    min_n = 0\n",
    "    print('숫자를 생각하세요..!')\n",
    "    \n",
    "    while 1:\n",
    "        guess = (max_n + min_n) // 2\n",
    "        print(f'{guess} 보다')\n",
    "        count += 1\n",
    "        feedback = int(input('작으면 -1, 크면 1, 맞으면 0:   '))\n",
    "        if feedback == -1:\n",
    "            max_n = guess\n",
    "        elif feedback == 1:\n",
    "            min_n = guess\n",
    "        else:\n",
    "            return count\n",
    "        \n",
    "guess_up_down()\n",
    "        \n",
    "    "
   ]
  },
  {
   "cell_type": "markdown",
   "metadata": {},
   "source": [
    "### 제곱근 구하기"
   ]
  },
  {
   "cell_type": "markdown",
   "metadata": {},
   "source": [
    "**190110**"
   ]
  },
  {
   "cell_type": "markdown",
   "metadata": {},
   "source": [
    "### Hangman\n",
    "> 필요한 함수들!"
   ]
  },
  {
   "cell_type": "code",
   "execution_count": 1,
   "metadata": {},
   "outputs": [],
   "source": [
    "def is_answer(answer, letters):\n",
    "    answer = set(answer)\n",
    "    count = 0\n",
    "    for char in set(letters):\n",
    "        if char in answer:\n",
    "            count += 1\n",
    "    return len(answer) == count\n",
    "\n",
    "#is_answer('apple', ['a', 'p', 'l']) # False"
   ]
  },
  {
   "cell_type": "code",
   "execution_count": 2,
   "metadata": {},
   "outputs": [
    {
     "data": {
      "text/plain": [
       "\"\\ndef status(answer, letters):\\n    for char in answer:\\n        if char not in letters:\\n            answer = answer.replace(char, '_ ')\\n    return answer      \\n\\n#status('apple', ['a', 'p', 'e'])\\n\""
      ]
     },
     "execution_count": 2,
     "metadata": {},
     "output_type": "execute_result"
    }
   ],
   "source": [
    "'''\n",
    "def status(answer, letters):\n",
    "    for char in answer:\n",
    "        if char not in letters:\n",
    "            answer = answer.replace(char, '_ ')\n",
    "    return answer      \n",
    "\n",
    "#status('apple', ['a', 'p', 'e'])\n",
    "'''"
   ]
  },
  {
   "cell_type": "code",
   "execution_count": 3,
   "metadata": {},
   "outputs": [
    {
     "data": {
      "text/plain": [
       "'a p p _ e'"
      ]
     },
     "execution_count": 3,
     "metadata": {},
     "output_type": "execute_result"
    }
   ],
   "source": [
    "def status(answer, letters):\n",
    "    for char in answer:\n",
    "        if char not in letters:\n",
    "            answer = answer.replace(char, '_')    \n",
    "    return ' '.join(answer)      \n",
    "\n",
    "status('apple', ['a', 'p', 'e'])"
   ]
  },
  {
   "cell_type": "code",
   "execution_count": 6,
   "metadata": {},
   "outputs": [
    {
     "name": "stdout",
     "output_type": "stream",
     "text": [
      "이번 문제는 총 3칸 입니다. 기회는 총 8번 주어집니다!\n",
      "\n",
      "알파벳을 입력해주세요 :   man\n",
      "♥ ♥ ♥ ♥ ♥ ♥ ♥ ♥   남은 기회 : 8 \n",
      "현재 상황 : m a n\n",
      "\n"
     ]
    },
    {
     "data": {
      "text/plain": [
       "'정답입니다! hangman이 살았습니다. 기회를 8번 남기고 성공하셨습니다'"
      ]
     },
     "execution_count": 6,
     "metadata": {},
     "output_type": "execute_result"
    }
   ],
   "source": [
    "# 여러 단어를 입력해도 인식하는 hangman\n",
    "def hangman(answer):\n",
    "    life = 8\n",
    "    letters =  []\n",
    "    \n",
    "    print('이번 문제는 총 ' + str(len(answer)) + '칸 입니다.', end= ' ')\n",
    "    print('기회는 총 8번 주어집니다!')\n",
    "    print()\n",
    "    while life != 0:\n",
    "        \n",
    "        if is_answer(answer, letters) == True:\n",
    "            return f'정답입니다! hangman이 살았습니다. 기회를 {life}번 남기고 성공하셨습니다'\n",
    "            break\n",
    "        \n",
    "        user_input = input('알파벳을 입력해주세요 :   ').lower()\n",
    "        \n",
    "        if user_input in answer:\n",
    "            letters.extend(user_input)\n",
    "            print('♥ ' * life + 'X ' * (8 - life), end='  ')\n",
    "            print(f'남은 기회 : {life} ')\n",
    "            print(f'현재 상황 : {status(answer, letters)}')\n",
    "            print()\n",
    "            \n",
    "        else:\n",
    "            life -= 1\n",
    "            #print(f'목숨이 {life} 번 남았습니다')\n",
    "            print('♥ ' * life + 'X ' * (8 - life), end='  ')\n",
    "            print(f'남은 기회 : {life} ')\n",
    "            print(f'현재 상황 : {status(answer, letters)}')\n",
    "            if life == 1:\n",
    "                print()\n",
    "                print('마지막 기회입니다! 신중하게 생각해주세요!')\n",
    "            print()\n",
    "            \n",
    "    return 'hangman이 죽었습니다 OTL'\n",
    "\n",
    "hangman('man')"
   ]
  },
  {
   "cell_type": "markdown",
   "metadata": {},
   "source": [
    "### Hangman 로직 만들기\n",
    "> 위의 코드를 활용하여 `hangman(answer)`를 만들자!\n",
    "> 사용자가 답을 맞추거나, 시도가 8번을 넘어가면 종료!"
   ]
  },
  {
   "cell_type": "code",
   "execution_count": 15,
   "metadata": {},
   "outputs": [
    {
     "name": "stdout",
     "output_type": "stream",
     "text": [
      "이번 문제는 총 9칸 입니다. 기회는 총 8번 주어집니다!\n",
      "\n",
      "알파벳을 입력해주세요 :   a\n",
      "♥ ♥ ♥ ♥ ♥ ♥ ♥ X   남은 기회 : 7 \n",
      "현재 상황 : _ _ _ _ _ _ _ _ _\n",
      "\n",
      "알파벳을 입력해주세요 :   s\n",
      "♥ ♥ ♥ ♥ ♥ ♥ X X   남은 기회 : 6 \n",
      "현재 상황 : _ _ _ _ _ _ _ _ _\n",
      "\n",
      "알파벳을 입력해주세요 :   d\n",
      "♥ ♥ ♥ ♥ ♥ ♥ X X   남은 기회 : 6 \n",
      "현재 상황 : d _ _ _ _ _ _ _ _\n",
      "\n",
      "알파벳을 입력해주세요 :   2\n",
      "♥ ♥ ♥ ♥ ♥ X X X   남은 기회 : 5 \n",
      "현재 상황 : d _ _ _ _ _ _ _ _\n",
      "\n",
      "알파벳을 입력해주세요 :   3\n",
      "♥ ♥ ♥ ♥ X X X X   남은 기회 : 4 \n",
      "현재 상황 : d _ _ _ _ _ _ _ _\n",
      "\n",
      "알파벳을 입력해주세요 :   4\n",
      "♥ ♥ ♥ X X X X X   남은 기회 : 3 \n",
      "현재 상황 : d _ _ _ _ _ _ _ _\n",
      "\n",
      "알파벳을 입력해주세요 :   5\n",
      "♥ ♥ X X X X X X   남은 기회 : 2 \n",
      "현재 상황 : d _ _ _ _ _ _ _ _\n",
      "\n",
      "알파벳을 입력해주세요 :   6\n",
      "♥ X X X X X X X   남은 기회 : 1 \n",
      "현재 상황 : d _ _ _ _ _ _ _ _\n",
      "\n",
      "마지막 기회입니다! 신중하게 생각해주세요!\n",
      "\n",
      "알파벳을 입력해주세요 :   2\n",
      "X X X X X X X X   남은 기회 : 0 \n",
      "현재 상황 : d _ _ _ _ _ _ _ _\n",
      "\n"
     ]
    },
    {
     "data": {
      "text/plain": [
       "'hangman이 죽었습니다 OTL 정답은 difficult입니다.'"
      ]
     },
     "execution_count": 15,
     "metadata": {},
     "output_type": "execute_result"
    }
   ],
   "source": [
    "#입력을 하나로만 받는 hangman\n",
    "def is_answer(answer, letters):\n",
    "    answer = set(answer)\n",
    "    count = 0\n",
    "    for char in set(letters):\n",
    "        if char in answer:\n",
    "            count += 1\n",
    "    return len(answer) == count\n",
    "\n",
    "def status(answer, letters):\n",
    "    for char in answer:\n",
    "        if char not in letters:\n",
    "            answer = answer.replace(char, '_')    \n",
    "    return ' '.join(answer)      \n",
    "\n",
    "\n",
    "import random\n",
    "\n",
    "WORDS = (\"python\", \"jumble\", \"easy\", \"difficult\", \"answer\",  \"xylophone\")\n",
    "random_answer = random.choice(WORDS)\n",
    "\n",
    "def hangman(answer):\n",
    "    life = 8\n",
    "    letters =  []\n",
    "    answer_list = list(answer)\n",
    "    print('이번 문제는 총 ' + str(len(answer)) + '칸 입니다.', end= ' ')\n",
    "    print('기회는 총 8번 주어집니다!')\n",
    "    print()\n",
    "    while life != 0:\n",
    "        \n",
    "        if is_answer(answer, letters) == True:\n",
    "            return f'정답입니다! hangman이 살았습니다. 기회를 {life}번 남기고 성공하셨습니다'\n",
    "            break\n",
    "        \n",
    "        user_input = input('알파벳을 입력해주세요 :   ').lower()\n",
    "        \n",
    "        if len(user_input) == 1:\n",
    "            if user_input in answer_list:\n",
    "                letters.append(user_input)\n",
    "                print('♥ ' * life + 'X ' * (8 - life), end='  ')\n",
    "                print(f'남은 기회 : {life} ')\n",
    "                print(f'현재 상황 : {status(answer, letters)}')\n",
    "                print()\n",
    "\n",
    "            elif user_input not in answer_list:\n",
    "                life -= 1\n",
    "                #print(f'목숨이 {life} 번 남았습니다')\n",
    "                print('♥ ' * life + 'X ' * (8 - life), end='  ')\n",
    "                print(f'남은 기회 : {life} ')\n",
    "                print(f'현재 상황 : {status(answer, letters)}')\n",
    "                if life == 1:\n",
    "                    print()\n",
    "                    print('마지막 기회입니다! 신중하게 생각해주세요!')\n",
    "                print()\n",
    "        else:\n",
    "            print('※주의※ 하나의 알파벳만 입력해주세요!')\n",
    "            print()\n",
    "            \n",
    "    return f'hangman이 죽었습니다 OTL 정답은 {answer}입니다.'\n",
    "\n",
    "hangman(random_answer)\n"
   ]
  },
  {
   "cell_type": "code",
   "execution_count": 59,
   "metadata": {},
   "outputs": [
    {
     "name": "stdout",
     "output_type": "stream",
     "text": [
      "===START===\n",
      "남은 목숨은: ★★★★★★★★\n",
      "_ _ _ _ _\n",
      "알파벳을 입력하세요: 1\n",
      "남은 목숨은: ★★★★★★★\n",
      "_ _ _ _ _\n",
      "알파벳을 입력하세요: 2\n",
      "남은 목숨은: ★★★★★★\n",
      "_ _ _ _ _\n",
      "알파벳을 입력하세요: 3\n",
      "남은 목숨은: ★★★★★\n",
      "_ _ _ _ _\n",
      "알파벳을 입력하세요: 4\n",
      "남은 목숨은: ★★★★\n",
      "_ _ _ _ _\n",
      "알파벳을 입력하세요: 5\n",
      "남은 목숨은: ★★★\n",
      "_ _ _ _ _\n",
      "알파벳을 입력하세요: \n",
      "남은 목숨은: ★★\n",
      "_ _ _ _ _\n",
      "알파벳을 입력하세요: 67\n",
      "남은 목숨은: ★\n",
      "_ _ _ _ _\n",
      "알파벳을 입력하세요: 8\n"
     ]
    },
    {
     "data": {
      "text/plain": [
       "'실패!'"
      ]
     },
     "execution_count": 59,
     "metadata": {},
     "output_type": "execute_result"
    }
   ],
   "source": [
    "#교수님 코드\n",
    "def hangman(answer):\n",
    "    input_letters = []\n",
    "    attempt = 8\n",
    "    print('===START===')\n",
    "    \n",
    "    while 1:\n",
    "        print(\"남은 목숨은: \" + '★' * attempt)\n",
    "        print(status(answer, input_letters))\n",
    "        \n",
    "        guess = input('알파벳을 입력하세요: ').lower()\n",
    "        input_letters.append(guess)\n",
    "        \n",
    "        # some code (맞출 경우에는 attempt를 깎지 않는다)\n",
    "        \n",
    "        if is_answer(answer, input_letters):\n",
    "            return '성공!'\n",
    "        else:\n",
    "            attempt -= 1\n",
    "            \n",
    "        if not attempt:\n",
    "            return '실패!'\n",
    "        \n",
    "hangman('apple')        "
   ]
  }
 ],
 "metadata": {
  "kernelspec": {
   "display_name": "Python 3",
   "language": "python",
   "name": "python3"
  },
  "language_info": {
   "codemirror_mode": {
    "name": "ipython",
    "version": 3
   },
   "file_extension": ".py",
   "mimetype": "text/x-python",
   "name": "python",
   "nbconvert_exporter": "python",
   "pygments_lexer": "ipython3",
   "version": "3.6.7"
  }
 },
 "nbformat": 4,
 "nbformat_minor": 2
}
