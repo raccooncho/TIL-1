{
 "cells": [
  {
   "cell_type": "code",
   "execution_count": null,
   "metadata": {},
   "outputs": [],
   "source": [
    "# 애니메이션을 위해 꼭 실행시켜주세요.\n",
    "from IPython.display import IFrame    "
   ]
  },
  {
   "cell_type": "markdown",
   "metadata": {},
   "source": [
    "# 재귀 함수(recursive function)\n",
    "\n",
    "재귀 함수는 함수 내부에서 자기 자신을 호출 하는 함수를 뜻한다."
   ]
  },
  {
   "cell_type": "markdown",
   "metadata": {},
   "source": [
    "## 실습 문제 - 팩토리얼 계산\n",
    "\n",
    "> `팩토리얼(factorial)`을 계산하는 함수 `fact(n)`를 작성해봅시다. \n",
    ">\n",
    "> n은 1보다 큰 정수라고 가정하고, 팩토리얼을 계산한 값을 반환합니다.\n",
    "\n",
    "$$\n",
    "\\displaystyle n! = \\prod_{ k = 1 }^{ n }{ k }\n",
    "$$\n",
    "\n",
    "$$\n",
    "\\displaystyle n! = 1*2*3*...*(n-1)*n\n",
    "$$\n",
    "\n",
    "---\n",
    "```\n",
    "예시 출력)\n",
    "120\n",
    "```"
   ]
  },
  {
   "cell_type": "code",
   "execution_count": null,
   "metadata": {},
   "outputs": [],
   "source": [
    "# 아래에 코드를 작성해주세요.\n",
    "\n",
    "def fact(n):\n",
    "    result = 1\n",
    "    for i in range(1, n + 1):\n",
    "        result = result * i\n",
    "    return result\n"
   ]
  },
  {
   "cell_type": "code",
   "execution_count": null,
   "metadata": {},
   "outputs": [],
   "source": [
    "def fact(n):\n",
    "    result = 1\n",
    "    while n > 1:\n",
    "        result = result * n\n",
    "        n -= 1\n",
    "    return result"
   ]
  },
  {
   "cell_type": "code",
   "execution_count": null,
   "metadata": {},
   "outputs": [],
   "source": [
    "# 아래의 코드를 통해 fact(5) 함수를 호출해주세요.\n",
    "fact(5)"
   ]
  },
  {
   "cell_type": "markdown",
   "metadata": {},
   "source": [
    "## 예제 문제 - 재귀를 이용한 팩토리얼 계산\n",
    "\n",
    "```\n",
    "1! = 1\n",
    "2! = 1 * 2 = 1! * 2 \n",
    "3! = 1 * 2 * 3 = 2! * 3\n",
    "```"
   ]
  },
  {
   "cell_type": "code",
   "execution_count": null,
   "metadata": {},
   "outputs": [],
   "source": [
    "# 아래에 재귀함수를 이용한 팩토리얼 계산을 해봅시다. \n",
    "def factorial(n):\n",
    "    if n == 1:\n",
    "        return n\n",
    "    else:\n",
    "        return n * factorial(n - 1)\n",
    "\n",
    "factorial(4)\n",
    "\n",
    "        "
   ]
  },
  {
   "cell_type": "code",
   "execution_count": null,
   "metadata": {},
   "outputs": [],
   "source": [
    "# 아래의 코드를 통해 factorial(5) 함수를 호출해주세요.\n",
    "factorial(0)"
   ]
  },
  {
   "cell_type": "code",
   "execution_count": null,
   "metadata": {},
   "outputs": [],
   "source": [
    "# 실행 오류 뜨면 제일 상단에 import를 반드시 해주세요.\n",
    "IFrame(\"https://goo.gl/8Cmw2X\", width='100%', height='500px')\n",
    "# 자신이 정의하고 있는 함수 안에서 자신이 또 나오는 경우가 재귀함수이다\n",
    "#factorial(n)을 정의하는데 factorial(n-1) 이 나옴"
   ]
  },
  {
   "cell_type": "markdown",
   "metadata": {},
   "source": [
    "* 재귀 함수는 기본적으로 같은 문제이지만 점점 범위가 줄어드는 문제를 풀게 된다.\n",
    "\n",
    "* 재귀함수를 작성시에는 반드시, `base case`가 존재 하여야 한다. \n",
    "\n",
    "* `base case`는 점점 범위가 줄어들어 반복되지 않는 최종적으로 도달하는 곳이다. \n",
    "\n",
    "재귀를 이용한 팩토리얼 계산에서의 base case는 n이 1일때, 함수가 아닌 정수 반환하는 것이다."
   ]
  },
  {
   "cell_type": "markdown",
   "metadata": {},
   "source": [
    "* 자기 자신을 호출하는 재귀함수는 알고리즘 구현시 많이 사용된다.\n",
    "* 코드가 더 직관적이고 이해하기 쉬운 경우가 있음. (하지만, 만들기는 어려움)\n",
    "* [Python Tutor](https://goo.gl/k1hQYz)에 보면, 함수가 호출될 때마다 메모리 공간에 쌓이는 것을 볼 수 있다. \n",
    "* 이 경우, 메모리 스택이 넘치거나(Stack overflow) 프로그램 실행 속도가 늘어지는 단점이 생긴다.\n",
    "* 파이썬에서는 이를 방지하기 위해 1,000번이 넘어가게 되면 더이상 함수를 호출하지 않고, 종료된다."
   ]
  },
  {
   "cell_type": "code",
   "execution_count": null,
   "metadata": {},
   "outputs": [],
   "source": [
    "# 여기에서 오류를 확인해보자!"
   ]
  },
  {
   "cell_type": "markdown",
   "metadata": {},
   "source": [
    "## 실습문제 - 피보나치 수열\n",
    "\n",
    "> 피보나치 수열은 다음과 같은 점화식이 있다. \n",
    ">\n",
    "> 피보나치 값을 리턴하는 두가지 방식의 코드를 모두 작성해보자.\n",
    "\n",
    "$$\n",
    "\\displaystyle F_0 = F_1 = 1\n",
    "$$\n",
    "\n",
    "$$\n",
    "F_n=F_{n-1}+F_{n-2}\\qquad(n\\in\\{2,3,4,\\dots\\})\n",
    "$$\n",
    "\n",
    "1) `fib(n)` : 재귀함수\n",
    "\n",
    "2) `fib_loop(n)` : 반복문 활용한 함수\n",
    "\n",
    "---\n",
    "```\n",
    "예시 입력)\n",
    "fib(10)\n",
    "\n",
    "예시 호출)\n",
    "89\n",
    "```"
   ]
  },
  {
   "cell_type": "code",
   "execution_count": null,
   "metadata": {},
   "outputs": [],
   "source": [
    "# 아래에 재귀를 이용한 코드를 작성해주세요.\n",
    "#[1, 1, 2, 3, 5, 8, 13, 21 ...]\n",
    "def fib_loop(n):\n",
    "    if n in (0, 1):\n",
    "        return 1 \n",
    "    elif n > 1:\n",
    "        return fib_loop(n-1) + fib_loop(n-2)\n",
    "\n",
    "fib_loop(4)"
   ]
  },
  {
   "cell_type": "code",
   "execution_count": null,
   "metadata": {},
   "outputs": [],
   "source": [
    "def fib_loop(n):\n",
    "    if n == 1 or n == 0:\n",
    "        return 1\n",
    "    elif n > 1:\n",
    "        return fib_loop(n-1) + fib_loop(n-2)\n",
    "    \n",
    "fib_loop(4)"
   ]
  },
  {
   "cell_type": "code",
   "execution_count": null,
   "metadata": {},
   "outputs": [],
   "source": [
    "def fib_loop(n):\n",
    "    result = [1, 1]\n",
    "    for i in range(1, n):\n",
    "        result.append(result[-1] + result[-2])\n",
    "    return result[-1]\n",
    "\n",
    "fib_loop(5)"
   ]
  },
  {
   "cell_type": "code",
   "execution_count": null,
   "metadata": {},
   "outputs": [],
   "source": [
    "n0 = 1\n",
    "n1 = 1\n",
    "n2 = 2\n",
    "n3 = 3\n",
    "n4 = 5\n",
    "n5 = 8\n",
    "n6 = 13\n",
    "...."
   ]
  },
  {
   "cell_type": "code",
   "execution_count": null,
   "metadata": {},
   "outputs": [],
   "source": [
    "def fib(n):\n",
    "    if n in (0, 1):\n",
    "        return 1\n",
    "    else:\n",
    "        return fib(n - 1) + fib(n - 2)\n",
    "    \n",
    "fib(3)"
   ]
  },
  {
   "cell_type": "code",
   "execution_count": null,
   "metadata": {},
   "outputs": [],
   "source": [
    "# 아래의 코드를 통해 fib 함수를 호출해주세요.\n",
    "fib(10)"
   ]
  },
  {
   "cell_type": "code",
   "execution_count": null,
   "metadata": {},
   "outputs": [],
   "source": [
    "# 아래에 반복문을 이용한 코드를 작성해주세요."
   ]
  },
  {
   "cell_type": "code",
   "execution_count": null,
   "metadata": {},
   "outputs": [],
   "source": [
    "# 아래의 코드를 통해 fib_loop(5) 함수를 호출해주세요.\n",
    "fib_loop(10)"
   ]
  },
  {
   "cell_type": "markdown",
   "metadata": {},
   "source": [
    "## 반복문과 재귀 함수의 차이"
   ]
  },
  {
   "cell_type": "code",
   "execution_count": null,
   "metadata": {},
   "outputs": [],
   "source": [
    "# 큰 숫자를 재귀로 짜여진 fib()함수의 인자로 넘겨보세요.\n",
    "fib(33)"
   ]
  },
  {
   "cell_type": "code",
   "execution_count": null,
   "metadata": {
    "scrolled": false
   },
   "outputs": [],
   "source": [
    "# 100배 되는 숫자를 반복문으로 짜여진 fib_loop()인자로 넘겨보세요.\n",
    "fib_loop(3300)"
   ]
  },
  {
   "cell_type": "code",
   "execution_count": null,
   "metadata": {},
   "outputs": [],
   "source": [
    "# 실행 오류 뜨면 제일 상단에 import를 반드시 해주세요.\n",
    "IFrame('https://goo.gl/JZ7s15', width='100%', height='300px')"
   ]
  },
  {
   "cell_type": "markdown",
   "metadata": {},
   "source": [
    "### 실습문제 -  chicken coupon\n",
    "> 치킨 쿠폰 3장을 모으면 한마리를 줍니다. 한마리를 시키면 한 장을 준다. n장이 있을 때, 몇 마리까지 먹을 수 있는가?\n",
    "> ex) 10장이 있을 때 10장 > 7 + 1 > 5 + 1> 3 + 1 > 1 + 1"
   ]
  },
  {
   "cell_type": "code",
   "execution_count": null,
   "metadata": {},
   "outputs": [],
   "source": [
    "#coupons = 10\n",
    "#free = 3일때\n",
    "\n",
    "\n",
    "def chichen(n):\n",
    "    free = 3\n",
    "    if n in (0, 1, 2):\n",
    "        return 0\n",
    "    else:\n",
    "        a = 0\n",
    "        chichen(n) = chichen(n - 2)\n",
    "        a += 1\n",
    "        return a\n",
    "        \n",
    "        #chichen(coupons) = chichen(coupons - free + 1) + chichen\n",
    "        \n",
    "\n"
   ]
  },
  {
   "cell_type": "code",
   "execution_count": null,
   "metadata": {},
   "outputs": [],
   "source": [
    "chicken = 0\n",
    "coupon = 10\n",
    "\n",
    "coupon -= 3\n",
    "chicken += 1\n",
    "coupon += 1"
   ]
  },
  {
   "cell_type": "code",
   "execution_count": 6,
   "metadata": {},
   "outputs": [
    {
     "data": {
      "text/plain": [
       "4"
      ]
     },
     "execution_count": 6,
     "metadata": {},
     "output_type": "execute_result"
    }
   ],
   "source": [
    "\n",
    "def chicken(coupon):\n",
    "    chicken = 0\n",
    "    N = 3\n",
    "    if coupon < N:\n",
    "        return 0\n",
    "    while coupon >= 3:\n",
    "        coupon -= 3\n",
    "        chicken += 1\n",
    "        coupon += 1\n",
    "    return chicken\n",
    "\n",
    "chicken(10)"
   ]
  },
  {
   "cell_type": "code",
   "execution_count": 4,
   "metadata": {},
   "outputs": [
    {
     "data": {
      "text/plain": [
       "4"
      ]
     },
     "execution_count": 4,
     "metadata": {},
     "output_type": "execute_result"
    }
   ],
   "source": [
    "#교수님\n",
    "def free_chicken(coupon, N, chicken = 0):\n",
    "    N = 3\n",
    "    \n",
    "    if coupon < N:\n",
    "        return chicken\n",
    "    else:\n",
    "        coupon -= 3\n",
    "        chicken += 1\n",
    "        coupon += 1\n",
    "        return free_chicken(coupon, N, chicken)\n",
    "        \n",
    "free_chicken(10, 3)"
   ]
  },
  {
   "cell_type": "code",
   "execution_count": 44,
   "metadata": {},
   "outputs": [
    {
     "data": {
      "text/plain": [
       "5"
      ]
     },
     "execution_count": 44,
     "metadata": {},
     "output_type": "execute_result"
    }
   ],
   "source": [
    "def chicken(n, f):\n",
    "        \n",
    "    if n in range(f):\n",
    "        return 0\n",
    "    else:\n",
    "        return chicken(n - f + 1, f) + 1\n",
    "\n",
    "chicken(50, 10)"
   ]
  },
  {
   "cell_type": "code",
   "execution_count": 57,
   "metadata": {},
   "outputs": [
    {
     "ename": "UnboundLocalError",
     "evalue": "local variable 'chicken' referenced before assignment",
     "output_type": "error",
     "traceback": [
      "\u001b[1;31m---------------------------------------------------------------------------\u001b[0m",
      "\u001b[1;31mUnboundLocalError\u001b[0m                         Traceback (most recent call last)",
      "\u001b[1;32m<ipython-input-57-da7ba91cbdab>\u001b[0m in \u001b[0;36m<module>\u001b[1;34m\u001b[0m\n\u001b[0;32m     12\u001b[0m     \u001b[1;32mreturn\u001b[0m \u001b[0mchicken\u001b[0m\u001b[1;33m(\u001b[0m\u001b[0mcoupon\u001b[0m\u001b[1;33m)\u001b[0m\u001b[1;33m\u001b[0m\u001b[1;33m\u001b[0m\u001b[0m\n\u001b[0;32m     13\u001b[0m \u001b[1;33m\u001b[0m\u001b[0m\n\u001b[1;32m---> 14\u001b[1;33m \u001b[0mchicken\u001b[0m\u001b[1;33m(\u001b[0m\u001b[1;36m10\u001b[0m\u001b[1;33m)\u001b[0m\u001b[1;33m\u001b[0m\u001b[1;33m\u001b[0m\u001b[0m\n\u001b[0m\u001b[0;32m     15\u001b[0m \u001b[1;33m\u001b[0m\u001b[0m\n\u001b[0;32m     16\u001b[0m \u001b[1;33m\u001b[0m\u001b[0m\n",
      "\u001b[1;32m<ipython-input-57-da7ba91cbdab>\u001b[0m in \u001b[0;36mchicken\u001b[1;34m(coupon)\u001b[0m\n\u001b[0;32m      9\u001b[0m         \u001b[0mfree_chicken\u001b[0m \u001b[1;33m=\u001b[0m \u001b[0mcoupon\u001b[0m \u001b[1;33m/\u001b[0m \u001b[1;36m3\u001b[0m\u001b[1;33m\u001b[0m\u001b[1;33m\u001b[0m\u001b[0m\n\u001b[0;32m     10\u001b[0m         \u001b[0mcoupon\u001b[0m \u001b[1;33m=\u001b[0m \u001b[0mfree_chicken\u001b[0m \u001b[1;33m+\u001b[0m \u001b[0mcoupon\u001b[0m \u001b[1;33m%\u001b[0m \u001b[1;36m3\u001b[0m\u001b[1;33m\u001b[0m\u001b[1;33m\u001b[0m\u001b[0m\n\u001b[1;32m---> 11\u001b[1;33m         \u001b[0mchicken\u001b[0m \u001b[1;33m=\u001b[0m \u001b[0mchicken\u001b[0m \u001b[1;33m+\u001b[0m \u001b[0mfree_chicken\u001b[0m\u001b[1;33m\u001b[0m\u001b[1;33m\u001b[0m\u001b[0m\n\u001b[0m\u001b[0;32m     12\u001b[0m     \u001b[1;32mreturn\u001b[0m \u001b[0mchicken\u001b[0m\u001b[1;33m(\u001b[0m\u001b[0mcoupon\u001b[0m\u001b[1;33m)\u001b[0m\u001b[1;33m\u001b[0m\u001b[1;33m\u001b[0m\u001b[0m\n\u001b[0;32m     13\u001b[0m \u001b[1;33m\u001b[0m\u001b[0m\n",
      "\u001b[1;31mUnboundLocalError\u001b[0m: local variable 'chicken' referenced before assignment"
     ]
    }
   ],
   "source": [
    "\n",
    "# 치킨 쿠폰 3장을 모으면 한마리를 줍니다. 한마리를 시키면 한 장을 준다. n장이 있을 때, 몇 마리까지 먹을 수 있는가?\n",
    "# ex) 10장이 있을 때 10장 > 7 + 1 > 5 + 1> 3 + 1 > 1 + 1\n",
    "\n",
    "def chicken(coupon):\n",
    "    if n < 3:\n",
    "        return 0\n",
    "    while coupon >= 3:\n",
    "        free_chicken = coupon / 3\n",
    "        coupon = free_chicken + coupon % 3\n",
    "        chicken = chicken + free_chicken\n",
    "    return chicken(coupon)\n",
    "    \n",
    "chicken(10)\n",
    "\n",
    "    "
   ]
  },
  {
   "cell_type": "markdown",
   "metadata": {},
   "source": [
    "### 실습문제 - 개미수열 (Look & Say)\n",
    "> 붙어 있는 숫자를 세어서 몇개인지 말해요\n",
    "\n",
    "\n",
    "n = 0\n",
    " [1]\n",
    "\n",
    "n = 1 \n",
    "[1, 1]\n",
    "\n",
    "n = 2 \n",
    "[1, 2]\n",
    "\n",
    "n = 3 \n",
    "[1, 1, 2, 1]\n",
    "\n",
    "n = 4 \n",
    "[1, 2, 2, 1, 1, 1]\n",
    "\n",
    "n = 5 \n",
    "[1, 1, 2, 2, 1, 3]\n",
    "\n",
    "n = 6\n",
    "[1, 2, 2, 2, 1, 1, 3,1]\n"
   ]
  },
  {
   "cell_type": "code",
   "execution_count": 8,
   "metadata": {},
   "outputs": [
    {
     "ename": "SyntaxError",
     "evalue": "can't assign to function call (<ipython-input-8-686eacd0ff22>, line 2)",
     "output_type": "error",
     "traceback": [
      "\u001b[1;36m  File \u001b[1;32m\"<ipython-input-8-686eacd0ff22>\"\u001b[1;36m, line \u001b[1;32m2\u001b[0m\n\u001b[1;33m    look_and_say(n) = look_and_say(n - 1)[0] * look_and_say(n - 1)[0]\u001b[0m\n\u001b[1;37m    ^\u001b[0m\n\u001b[1;31mSyntaxError\u001b[0m\u001b[1;31m:\u001b[0m can't assign to function call\n"
     ]
    }
   ],
   "source": [
    "def look_and_say(n):\n",
    "    look_and_say(n) = look_and_say(n - 1)[0] * look_and_say(n - 1)[0]"
   ]
  },
  {
   "cell_type": "code",
   "execution_count": 38,
   "metadata": {},
   "outputs": [
    {
     "ename": "SyntaxError",
     "evalue": "invalid syntax (<ipython-input-38-d6883dd941da>, line 21)",
     "output_type": "error",
     "traceback": [
      "\u001b[1;36m  File \u001b[1;32m\"<ipython-input-38-d6883dd941da>\"\u001b[1;36m, line \u001b[1;32m21\u001b[0m\n\u001b[1;33m    return first * num_first +\u001b[0m\n\u001b[1;37m                              ^\u001b[0m\n\u001b[1;31mSyntaxError\u001b[0m\u001b[1;31m:\u001b[0m invalid syntax\n"
     ]
    }
   ],
   "source": [
    "#n1 = [1, 1]\n",
    "#n2 = [1, 2] \n",
    "#n1[0] in \n",
    "\n",
    "#n번째 list = [n-1 번째 list 첫번째 숫자] + [그 숫자의 갯수] + [n-1 번째 list 두번째 숫자] + [그 숫자의 갯수] .....\n",
    "\n",
    "def look_and_say(n):\n",
    "    if n == 0:\n",
    "        print([1])\n",
    "    elif n == 1:\n",
    "        print([1, 1])\n",
    "    else:\n",
    "        count = 1\n",
    "        for i in range(0, len(look_and_say(n - 1)) - 1):\n",
    "            while look_and_say(n-1)[i] == look_and_say(n-1)[i + 1]:\n",
    "                count += 1\n",
    "                first = look_and_say(n-1)[0]\n",
    "                num_first = count\n",
    "                \n",
    "                \n",
    "                return first * num_first +\n",
    "\n",
    "            \n",
    "def look_and_say()"
   ]
  },
  {
   "cell_type": "code",
   "execution_count": 58,
   "metadata": {},
   "outputs": [
    {
     "ename": "SyntaxError",
     "evalue": "invalid syntax (<ipython-input-58-0cbd6756cf84>, line 21)",
     "output_type": "error",
     "traceback": [
      "\u001b[1;36m  File \u001b[1;32m\"<ipython-input-58-0cbd6756cf84>\"\u001b[1;36m, line \u001b[1;32m21\u001b[0m\n\u001b[1;33m    return = [first] * num_first + [second] * num_second\u001b[0m\n\u001b[1;37m           ^\u001b[0m\n\u001b[1;31mSyntaxError\u001b[0m\u001b[1;31m:\u001b[0m invalid syntax\n"
     ]
    }
   ],
   "source": [
    "\n",
    "n1 = [1, 1]\n",
    "n2 = [1, 2] \n",
    "n3 = [1, 1, 2, 1]\n",
    "def look_and_say(n):\n",
    "    count = 1\n",
    "    for i in range(0, len(look_and_say(n-1)) - 1):\n",
    "        if look_and_say(n-1)[i] == look_and_say(n-1)[i + 1]:\n",
    "            count += 1\n",
    "            first = look_and_say(n-1)[0]\n",
    "            num_first = count\n",
    "            \n",
    "            if look_and_say(n-1)[i + num_first] == look_and_say(n-1)[i + 1 + num_first]:\n",
    "                count += 1\n",
    "                second = look_and_say(n-1)[num_first]\n",
    "                num_second = count\n",
    "        \n",
    "            \n",
    "\n",
    "\n",
    "            return = [first] * num_first + [second] * num_second\n",
    "\n",
    "        \n",
    "#def look_and_say()\n",
    "\n",
    "n1 = [1, 1]\n",
    "\n",
    "\n",
    "count = 1\n",
    "for i in range(0, len(n1) - 1):\n",
    "    if n1[i] == n1[i + 1]:\n",
    "        count += 1\n",
    "        first = n1[0]\n",
    "        num_first = count\n",
    "        n2 = [first] * num_first       \n",
    "       \n",
    "print(n2)"
   ]
  },
  {
   "cell_type": "code",
   "execution_count": 66,
   "metadata": {},
   "outputs": [
    {
     "data": {
      "text/plain": [
       "[1, 1, 2, 2, 1, 3]"
      ]
     },
     "execution_count": 66,
     "metadata": {},
     "output_type": "execute_result"
    }
   ],
   "source": [
    "#look and say 교수님 풀이\n",
    "# start == remain / end == result\n",
    "\n",
    "\n",
    "def lns(n, start=[1], end=[]):\n",
    "    if n == 0:\n",
    "        return start\n",
    "    \n",
    "    look = start[0]\n",
    "    say = 0\n",
    "    \n",
    "    for index, number in enumerate(start):\n",
    "        # 보던 애가 계속 나오면,\n",
    "        if number == look:\n",
    "            say += 1\n",
    "        # 못보던 애가 나오면,\n",
    "        else:\n",
    "            del(start[0:index])  #start 앞을 버린다\n",
    "            break # 멈춘다\n",
    "    \n",
    "    else: #다 돌면\n",
    "        start = []\n",
    "        \n",
    "        \n",
    "    #end에 look 과 say를 붙인다\n",
    "    end = end + [look, say]\n",
    "    #start가 비어있다면\n",
    "    if not start: # start == []\n",
    "        return lns(n-1, end, [])\n",
    "    #start가 남아있다면\n",
    "    \n",
    "    return lns(n, start, end)\n",
    "\n",
    "lns(5) "
   ]
  },
  {
   "cell_type": "code",
   "execution_count": 69,
   "metadata": {},
   "outputs": [
    {
     "data": {
      "text/plain": [
       "'\\n1. remain [0] 을 본다\\n2. 본 걸 다른게 나올 때 까지 센다\\n3. result += (look, say)\\n4. remain에서 본걸 버린다\\n.\\n.\\n.\\n?. remain이 빈다면 result를 remain으로\\nbase case는 n == 0이면, remain을 리턴\\n'"
      ]
     },
     "execution_count": 69,
     "metadata": {},
     "output_type": "execute_result"
    }
   ],
   "source": [
    "#LOOK AND SAY 풀이 논리\n",
    "\"\"\"\n",
    "1. remain [0] 을 본다\n",
    "2. 본 걸 다른게 나올 때 까지 센다\n",
    "3. result += (look, say)\n",
    "4. remain에서 본걸 버린다\n",
    ".\n",
    ".\n",
    ".\n",
    "?. remain이 빈다면 result를 remain으로\n",
    "base case는 n == 0이면, remain을 리턴\n",
    "\"\"\""
   ]
  },
  {
   "cell_type": "code",
   "execution_count": 68,
   "metadata": {},
   "outputs": [
    {
     "name": "stdout",
     "output_type": "stream",
     "text": [
      "[1, 1, 2, 2, 1, 3]\n"
     ]
    }
   ],
   "source": [
    "#classmate 풀이\n",
    "def look_and_say(n) :\n",
    "    if n == 0 :\n",
    "        return [1]\n",
    "    else :\n",
    "        list_1 = look_and_say(n - 1)\n",
    "        list_2 = []\n",
    "        number = 0;\n",
    "        num_cnt = 0;\n",
    "        i = 0;\n",
    "        while i < len(list_1) :\n",
    "            if number != list_1[i] :\n",
    "                if i != 0 :\n",
    "                    list_2.append(num_cnt)\n",
    "                list_2.append(list_1[i])\n",
    "                number = list_1[i]\n",
    "                num_cnt = 1\n",
    "            else :\n",
    "                num_cnt += 1\n",
    "            i += 1\n",
    "        list_2.append(num_cnt)\n",
    "        return list_2\n",
    "print(look_and_say(5))"
   ]
  },
  {
   "cell_type": "markdown",
   "metadata": {},
   "source": [
    "## 실습문제 - 하노이의 탑\n",
    "\n",
    "> 다음은 하노이의 탑이다. \n",
    ">\n",
    "> 하노이의 탑을 풀이하는 해법(한쪽 탑의 원판을 다른 탑으로 모두 옮기는 법을 출력하는 함수를 만드세요.\n",
    "\n",
    "<br>\n",
    "<br>\n",
    "<center>\n",
    "    <img src=\"./images/04/hanoi.gif\", alt=\"\">\n",
    "</center>\n",
    "\n",
    "1. 한 번에 한개의 층만을 다른 기둥으로 옮길 수 있다\n",
    "2. 옮기려는 기둥에는 아무것도 없거나 옮기려는 층보다 큰 층이 있을 경우에만 옮길 수 있다\n",
    "3. 옮기려는 기둥에 옮기려는 층보다 작은 층이 이미 있을 경우 그 기둥으로 옮길 수 없다.\n",
    "4. 가능한 적은 회수로 전체 탑을 다른 기둥으로 옮긴다."
   ]
  },
  {
   "cell_type": "code",
   "execution_count": null,
   "metadata": {},
   "outputs": [],
   "source": [
    "# 아래에 코드를 작성해주세요.\n"
   ]
  }
 ],
 "metadata": {
  "kernelspec": {
   "display_name": "Python 3",
   "language": "python",
   "name": "python3"
  },
  "language_info": {
   "codemirror_mode": {
    "name": "ipython",
    "version": 3
   },
   "file_extension": ".py",
   "mimetype": "text/x-python",
   "name": "python",
   "nbconvert_exporter": "python",
   "pygments_lexer": "ipython3",
   "version": "3.6.7"
  },
  "latex_envs": {
   "LaTeX_envs_menu_present": true,
   "autoclose": false,
   "autocomplete": true,
   "bibliofile": "biblio.bib",
   "cite_by": "apalike",
   "current_citInitial": 1,
   "eqLabelWithNumbers": true,
   "eqNumInitial": 1,
   "hotkeys": {
    "equation": "Ctrl-E",
    "itemize": "Ctrl-I"
   },
   "labels_anchors": false,
   "latex_user_defs": false,
   "report_style_numbering": false,
   "user_envs_cfg": false
  },
  "toc": {
   "base_numbering": 1,
   "nav_menu": {},
   "number_sections": true,
   "sideBar": true,
   "skip_h1_title": false,
   "title_cell": "Table of Contents",
   "title_sidebar": "Contents",
   "toc_cell": false,
   "toc_position": {},
   "toc_section_display": true,
   "toc_window_display": false
  }
 },
 "nbformat": 4,
 "nbformat_minor": 2
}
