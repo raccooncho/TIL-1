{
 "cells": [
  {
   "cell_type": "markdown",
   "metadata": {},
   "source": [
    ">Problem\n",
    "다음과 같은 클래스 Circle이 있다.\n",
    "반지름이 3이고 x,y 좌표가 (2, 4)인 원을 만들어 넓이와 둘레를 출력하세요"
   ]
  },
  {
   "cell_type": "code",
   "execution_count": 26,
   "metadata": {},
   "outputs": [
    {
     "name": "stdout",
     "output_type": "stream",
     "text": [
      "원의 넓이는 28.259999999999998 입니다\n",
      "원의 둘레는 18.84 입니다\n"
     ]
    }
   ],
   "source": [
    "class Circle():\n",
    "    pi = 3.14\n",
    "    x = 0\n",
    "    y = 0\n",
    "    r = 0\n",
    "    \n",
    "    def area(self):\n",
    "        return self.pi * self.r * self.r\n",
    "    \n",
    "    def circumference(self):\n",
    "        return 2 * self.pi * self.r\n",
    "    def center(self):\n",
    "        return (self.x, self.y)\n",
    "    \n",
    "    def move(self, x, y):\n",
    "        self.x = x\n",
    "        self.y = y\n",
    "        \n",
    "a = Circle()\n",
    "b = Circle()\n",
    "c = Circle()\n",
    "d = Circle()\n",
    "a.x = 3\n",
    "b.y = 4\n",
    "c.r = 3\n",
    "d.pi = 3.14\n",
    "\n",
    "\n",
    "print(f'원의 넓이는 {c.area()} 입니다')\n",
    "print(f'원의 둘레는 {c.circumference()} 입니다')\n"
   ]
  }
 ],
 "metadata": {
  "kernelspec": {
   "display_name": "Python 3",
   "language": "python",
   "name": "python3"
  },
  "language_info": {
   "codemirror_mode": {
    "name": "ipython",
    "version": 3
   },
   "file_extension": ".py",
   "mimetype": "text/x-python",
   "name": "python",
   "nbconvert_exporter": "python",
   "pygments_lexer": "ipython3",
   "version": "3.6.7"
  }
 },
 "nbformat": 4,
 "nbformat_minor": 2
}
