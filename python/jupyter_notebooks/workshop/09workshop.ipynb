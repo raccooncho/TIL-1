{
 "cells": [
  {
   "cell_type": "markdown",
   "metadata": {},
   "source": [
    "1. 클릭하면 https://www.ssafy.com/로 이동하는 버튼을 만드시오.\n",
    "\n",
    "> `<a href=\"https://www.ssafy.com\" target =\"_blank\">`"
   ]
  },
  {
   "cell_type": "markdown",
   "metadata": {},
   "source": [
    "2. 다음 태그에서 잘못된 부분을 찾으시오.\n",
    "\n",
    "`<img href=\"https://www.google.com/\" alt=\"GOOLE\">`\n",
    "> `href를 src로 바꾼다`"
   ]
  },
  {
   "cell_type": "markdown",
   "metadata": {},
   "source": [
    "3. 당신은 현재 Resume.html에서 작업중이다. \"내 사진\"이라는 링크를 누르면 Image 폴더 안에 my_photo를 띄어주는 a 태그 경로를 넣으시오\n",
    "\n",
    "> `<a href=\"C:\\Users\\student\\TIL\\SSAFY\\Image\\my_photo.png>`"
   ]
  }
 ],
 "metadata": {
  "kernelspec": {
   "display_name": "Python 3",
   "language": "python",
   "name": "python3"
  },
  "language_info": {
   "codemirror_mode": {
    "name": "ipython",
    "version": 3
   },
   "file_extension": ".py",
   "mimetype": "text/x-python",
   "name": "python",
   "nbconvert_exporter": "python",
   "pygments_lexer": "ipython3",
   "version": "3.6.7"
  }
 },
 "nbformat": 4,
 "nbformat_minor": 2
}
