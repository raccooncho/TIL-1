{
 "cells": [
  {
   "cell_type": "markdown",
   "metadata": {},
   "source": [
    "### 이분법\n",
    "> 양의 정수 x를 입력 받아 제곱근의 근사값의 결과를 반환하는 함수를 작성하세요 (단 sqrt() 사용 금지)"
   ]
  },
  {
   "cell_type": "code",
   "execution_count": 27,
   "metadata": {},
   "outputs": [
    {
     "name": "stdout",
     "output_type": "stream",
     "text": [
      "2.646\n"
     ]
    }
   ],
   "source": [
    "#첫번째 문제풀이\n",
    "def root(num):\n",
    "    min_num = 1\n",
    "    max_num = num + 1\n",
    "    while round(min_num, 3) ** 2 < num < round(max_num, 3) ** 2:\n",
    "        if num < ((min_num + max_num) / 2) ** 2:\n",
    "            max_num = (min_num + max_num) / 2\n",
    "            \n",
    "        elif num > ((min_num + max_num) / 2) ** 2:\n",
    "            min_num = (min_num + max_num) / 2\n",
    "            \n",
    "        elif round(max_num, 3) == round(min_num, 3):\n",
    "            break \n",
    "    return round(max_num, 3)\n",
    "\n",
    "print(root(15))"
   ]
  },
  {
   "cell_type": "code",
   "execution_count": 19,
   "metadata": {},
   "outputs": [
    {
     "name": "stdout",
     "output_type": "stream",
     "text": [
      "3.873\n"
     ]
    }
   ],
   "source": [
    "# 두번째 문제풀이\n",
    "def root(num):\n",
    "    min_num = 1\n",
    "    max_num = num + 1\n",
    "    while min_num ** 2 < num < max_num ** 2:\n",
    "        if round(max_num, 3) == round(min_num, 3):\n",
    "            break\n",
    "        \n",
    "        if num <= ((min_num + max_num) / 2) ** 2:\n",
    "            max_num = (min_num + max_num) / 2\n",
    "            \n",
    "        elif num > ((min_num + max_num) / 2) ** 2:\n",
    "            min_num = (min_num + max_num) / 2\n",
    "\n",
    "    return round(max_num, 3)\n",
    "\n",
    "print(root(15))"
   ]
  },
  {
   "cell_type": "code",
   "execution_count": 17,
   "metadata": {},
   "outputs": [
    {
     "name": "stdout",
     "output_type": "stream",
     "text": [
      "3.873\n"
     ]
    }
   ],
   "source": [
    "# 세번째 문제풀이\n",
    "def root(num):\n",
    "    min_num = 1\n",
    "    max_num = num + 1\n",
    "    while min_num ** 2 < num < max_num ** 2:\n",
    "        if num <= ((min_num + max_num) / 2) ** 2:\n",
    "            max_num = (min_num + max_num) / 2\n",
    "        elif num > ((min_num + max_num) / 2) ** 2:\n",
    "            min_num = (min_num + max_num) / 2\n",
    "        if round(max_num, 3) == round(min_num, 3):\n",
    "            return round(max_num, 3)\n",
    "    \n",
    "print(root(15))"
   ]
  }
 ],
 "metadata": {
  "kernelspec": {
   "display_name": "Python 3",
   "language": "python",
   "name": "python3"
  },
  "language_info": {
   "codemirror_mode": {
    "name": "ipython",
    "version": 3
   },
   "file_extension": ".py",
   "mimetype": "text/x-python",
   "name": "python",
   "nbconvert_exporter": "python",
   "pygments_lexer": "ipython3",
   "version": "3.6.7"
  }
 },
 "nbformat": 4,
 "nbformat_minor": 2
}
