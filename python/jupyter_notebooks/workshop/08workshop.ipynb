{
 "cells": [
  {
   "cell_type": "markdown",
   "metadata": {},
   "source": [
    ">problem\n",
    "\n",
    "-Flask에서 Ditionary 자료형을 이용하여 다음 조건을 만족하는 '나만의 영어 단어장' 페이지를 만들어보세요.\n",
    "\n",
    "주소(route) : /dictionary/<string:word>\n",
    "페이지에 표시할 내용 ex)apple은 사과\n",
    "\n",
    "-실행 결과\n",
    "\n",
    "(1) 단어가 있는 경우\n",
    "apple은(는) 사과!\n",
    "\n",
    "(2) 단어가 없는 경우\n",
    "orange은(는) 나만의 단어장에 없는 단어입니다!"
   ]
  },
  {
   "cell_type": "code",
   "execution_count": 1,
   "metadata": {},
   "outputs": [
    {
     "name": "stdout",
     "output_type": "stream",
     "text": [
      " * Serving Flask app \"__main__\" (lazy loading)\n",
      " * Environment: production\n",
      "   WARNING: Do not use the development server in a production environment.\n",
      "   Use a production WSGI server instead.\n",
      " * Debug mode: on\n"
     ]
    },
    {
     "name": "stderr",
     "output_type": "stream",
     "text": [
      " * Restarting with stat\n"
     ]
    },
    {
     "ename": "SystemExit",
     "evalue": "1",
     "output_type": "error",
     "traceback": [
      "An exception has occurred, use %tb to see the full traceback.\n",
      "\u001b[1;31mSystemExit\u001b[0m\u001b[1;31m:\u001b[0m 1\n"
     ]
    },
    {
     "name": "stderr",
     "output_type": "stream",
     "text": [
      "c:\\python36\\lib\\site-packages\\IPython\\core\\interactiveshell.py:3275: UserWarning: To exit: use 'exit', 'quit', or Ctrl-D.\n",
      "  warn(\"To exit: use 'exit', 'quit', or Ctrl-D.\", stacklevel=1)\n"
     ]
    }
   ],
   "source": [
    "from flask import Flask, jsonify\n",
    "app = Flask(__name__)\n",
    "dict_eng = {'apple': '사과'}\n",
    "\n",
    "@app.route('/dictionary/<string:voca>')\n",
    "def my_eng_voca(voca):\n",
    "    if voca in dict_eng:\n",
    "        return f'{voca}은/는 {dict_eng[voca]}'\n",
    "    else:\n",
    "        return f'{voca}은/는 나만의 단어장에 없는 단어입니다!'\n",
    "\n",
    "if __name__ == '__main__':\n",
    "    app.run(debug=True)"
   ]
  }
 ],
 "metadata": {
  "kernelspec": {
   "display_name": "Python 3",
   "language": "python",
   "name": "python3"
  },
  "language_info": {
   "codemirror_mode": {
    "name": "ipython",
    "version": 3
   },
   "file_extension": ".py",
   "mimetype": "text/x-python",
   "name": "python",
   "nbconvert_exporter": "python",
   "pygments_lexer": "ipython3",
   "version": "3.6.7"
  }
 },
 "nbformat": 4,
 "nbformat_minor": 2
}
