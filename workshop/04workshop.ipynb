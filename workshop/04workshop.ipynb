{
 "cells": [
  {
   "cell_type": "markdown",
   "metadata": {},
   "source": [
    "# Day1"
   ]
  },
  {
   "cell_type": "markdown",
   "metadata": {},
   "source": [
    "#Workshop"
   ]
  },
  {
   "cell_type": "code",
   "execution_count": null,
   "metadata": {},
   "outputs": [],
   "source": [
    "#두 개의 정수 n과 m이 주어집니다. 반복문을 사용하지 않고 별* 문자를 이용해 가로의 길이가 n, 세로의 길이가 m인 직사각형 형태를 출력해보세요\n",
    "n = 5\n",
    "m = 9\n",
    "line = \"*\" * n + '\\n'\n",
    "print(line * m)"
   ]
  },
  {
   "cell_type": "code",
   "execution_count": 1,
   "metadata": {},
   "outputs": [
    {
     "data": {
      "text/plain": [
       "87.75"
      ]
     },
     "execution_count": 1,
     "metadata": {},
     "output_type": "execute_result"
    }
   ],
   "source": [
    "#다음딕셔너리에서 평균 점수를 출력하시오\n",
    "student = {'python': 80, 'algorism': 99, 'django': 89, 'flaks': 83}\n",
    "sum(student.values())/len(student.values())"
   ]
  },
  {
   "cell_type": "code",
   "execution_count": null,
   "metadata": {},
   "outputs": [],
   "source": []
  },
  {
   "cell_type": "code",
   "execution_count": 4,
   "metadata": {},
   "outputs": [
    {
     "name": "stdout",
     "output_type": "stream",
     "text": [
      " 혈액형이 A형인 학생은 모두 3명입니다\n",
      " 혈액형이 B형인 학생은 모두 3명입니다\n",
      " 혈액형이 O형인 학생은 모두 3명입니다\n",
      " 혈액형이 AB형인 학생은 모두 3명입니다\n"
     ]
    }
   ],
   "source": [
    "#for문을 이용하여 각 혈액형 별 학생수의 합계를 구하시오\n",
    "blood_types = ['A', 'B', 'A', 'O', 'AB', 'AB', 'O', 'A', 'B', 'O', 'B', 'AB']\n",
    "\n",
    "num_A = 0\n",
    "num_B = 0\n",
    "num_O = 0\n",
    "num_AB = 0\n",
    "\n",
    "for i in blood_types:\n",
    "    if i == 'A':\n",
    "        num_A += 1\n",
    "    elif i == 'B':\n",
    "        num_B += 1\n",
    "    elif i == 'O':\n",
    "        num_O += 1\n",
    "    elif i == 'AB':\n",
    "        num_AB += 1    \n",
    "\n",
    "print(\" 혈액형이 A형인 학생은 모두 \" + str(num_A) + \"명입니다\")\n",
    "print(\" 혈액형이 B형인 학생은 모두 \" + str(num_B) + \"명입니다\")\n",
    "print(\" 혈액형이 O형인 학생은 모두 \" + str(num_O) + \"명입니다\")\n",
    "print(\" 혈액형이 AB형인 학생은 모두 \" + str(num_AB) + \"명입니다\")\n",
    "        \n",
    "        "
   ]
  }
 ],
 "metadata": {
  "kernelspec": {
   "display_name": "Python 3",
   "language": "python",
   "name": "python3"
  },
  "language_info": {
   "codemirror_mode": {
    "name": "ipython",
    "version": 3
   },
   "file_extension": ".py",
   "mimetype": "text/x-python",
   "name": "python",
   "nbconvert_exporter": "python",
   "pygments_lexer": "ipython3",
   "version": "3.6.7"
  }
 },
 "nbformat": 4,
 "nbformat_minor": 2
}
