{
 "cells": [
  {
   "cell_type": "markdown",
   "metadata": {},
   "source": [
    "1. 파이썬은 객체지향프로그밍 언어입니다.\n",
    "\n",
    "파이썬에서 기본적으로 정의된 클래스 5개만 작성해보세요.\n",
    "\n",
    "count, extend, index, insert, pop"
   ]
  },
  {
   "cell_type": "markdown",
   "metadata": {},
   "source": [
    "2. 다음 중 틀린 것은 ?\n",
    "\n",
    "(5)번"
   ]
  },
  {
   "cell_type": "markdown",
   "metadata": {},
   "source": [
    "3. Person 클래스를 정의하고,\n",
    "\n",
    "\n",
    "이름이 '홍길동', 나이가 20인 p1 인스턴스 객체를 만들어보세요.\n",
    "\n",
    "이름이 '둘리', 나이가 0인 p2 인스턴스 객체를 만들어보세요. \n",
    "\n",
    "인스턴스 속성: name, age\n",
    "메서드; greeting()\n",
    "\n",
    "인스턴스 생성시 이름과 나이를 받으며, 나이가 없는 경우 0으로 설정한다.\n",
    "greeting이 호출되면, 아래와 같이 문자열을 반환한다.\n",
    "\n",
    "'안녕하세요. 홍길동입니다. 20살입니다.'\n",
    "'안녕하세요. 둘리입니다. 0살입니다.'"
   ]
  },
  {
   "cell_type": "code",
   "execution_count": 10,
   "metadata": {},
   "outputs": [
    {
     "name": "stdout",
     "output_type": "stream",
     "text": [
      "안녕하세요. 홍길동입니다. 20살입니다.\n",
      "안녕하세요. 둘리입니다. 0살입니다.\n"
     ]
    }
   ],
   "source": [
    "class Person:\n",
    "    \n",
    "    \n",
    "    def __init__(self, name, age=0):\n",
    "        self.name = name\n",
    "        self.age = age\n",
    "        \n",
    "    def greeting(self):\n",
    "        print(f'안녕하세요. {self.name}입니다. {self.age}살입니다.')\n",
    "        \n",
    "p1 = Person('홍길동', 20)\n",
    "p2 = Person('둘리')\n",
    "p1.greeting()\n",
    "p2.greeting()\n"
   ]
  }
 ],
 "metadata": {
  "kernelspec": {
   "display_name": "Python 3",
   "language": "python",
   "name": "python3"
  },
  "language_info": {
   "codemirror_mode": {
    "name": "ipython",
    "version": 3
   },
   "file_extension": ".py",
   "mimetype": "text/x-python",
   "name": "python",
   "nbconvert_exporter": "python",
   "pygments_lexer": "ipython3",
   "version": "3.6.7"
  }
 },
 "nbformat": 4,
 "nbformat_minor": 2
}
