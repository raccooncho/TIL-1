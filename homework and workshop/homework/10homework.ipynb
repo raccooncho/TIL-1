{
 "cells": [
  {
   "cell_type": "markdown",
   "metadata": {},
   "source": [
    "1. CSS은 무엇의 약자인가?\n",
    "> (2) Cascading Style Sheets"
   ]
  },
  {
   "cell_type": "markdown",
   "metadata": {},
   "source": [
    "2. T or F\n",
    "\n",
    "-HTML과 CSS는 각자 문법을 갖는 별개의 언이이다 [T]\n",
    "\n",
    "-웹 브라우저는 내장 기본 스타일이 있어 CSS가 없어도 작동한다 [T]\n",
    "\n",
    "-자식요소 프로퍼티는 부모의 프로퍼티를 모두 상속 받는다. [F]\n"
   ]
  },
  {
   "cell_type": "markdown",
   "metadata": {},
   "source": [
    "3. 크기 단위 em은 요소에 지정된 상속된 사이즈나 기본 사이즈에 대해 상대적인 사이즈를 설정한다. 즉, 상속의 영향으로 사이즈가 의도치 않게 변경될 수 있는데 이를 예방하기 위해 HTML 최상위 요소의 사이즈를 기준으로 삼는 크기 단위는 무엇인가?\n",
    "> rem"
   ]
  },
  {
   "cell_type": "markdown",
   "metadata": {},
   "source": [
    "4. 후손 셀렉터와 자식 셀렉터의 차이점\n",
    "> 자식 셀렉터의 경우 계층구조에서 바로 아래 오는 자식 요소 즉 div 아래에 오는 p만을 선택한다\n",
    "> 자손 셀렉터의 경우 계층구조에서 하위에 오는 모든 자손 p를 선택한다\n"
   ]
  }
 ],
 "metadata": {
  "kernelspec": {
   "display_name": "Python 3",
   "language": "python",
   "name": "python3"
  },
  "language_info": {
   "codemirror_mode": {
    "name": "ipython",
    "version": 3
   },
   "file_extension": ".py",
   "mimetype": "text/x-python",
   "name": "python",
   "nbconvert_exporter": "python",
   "pygments_lexer": "ipython3",
   "version": "3.6.7"
  }
 },
 "nbformat": 4,
 "nbformat_minor": 2
}
