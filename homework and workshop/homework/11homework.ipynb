{
 "cells": [
  {
   "cell_type": "markdown",
   "metadata": {},
   "source": [
    "1. 다음은 부트스트랩의 어떤 component이며 아래와 같이 만들려면 어떤 class를 주어야하는가\n",
    "> button component이고 .btn btn-danger class를 주어야한다"
   ]
  },
  {
   "cell_type": "markdown",
   "metadata": {},
   "source": [
    "2. 다음은 부트스트랩의 어떤 component이며 아래와 동일하게 만들어 보시오.\n",
    "\n",
    "#alert-link\n",
    "\n",
    "<div class=\"alert alert-info\" role=\"alert\">\n",
    "  A simple info alert with <a href=\"#\" class=\"alert-link\">an example link</a>. Give it a click if you like.\n",
    "</div>"
   ]
  },
  {
   "cell_type": "markdown",
   "metadata": {},
   "source": [
    "3. 다음 빈칸을 채우시오.\n",
    "\n",
    "\" 부트스트랩 그리드 시스템은 레이아웃을 (  12  ) 개의 column으로. (  5  ) 개의 반응형 사이즈 조건을 사용하여 구축한다. \""
   ]
  },
  {
   "cell_type": "code",
   "execution_count": 2,
   "metadata": {},
   "outputs": [
    {
     "ename": "SyntaxError",
     "evalue": "invalid syntax (<ipython-input-2-22c871585f97>, line 1)",
     "output_type": "error",
     "traceback": [
      "\u001b[1;36m  File \u001b[1;32m\"<ipython-input-2-22c871585f97>\"\u001b[1;36m, line \u001b[1;32m1\u001b[0m\n\u001b[1;33m    4. 아래와 같은 분할을 grid system을 활용하여 만들어 보시오.\u001b[0m\n\u001b[1;37m         ^\u001b[0m\n\u001b[1;31mSyntaxError\u001b[0m\u001b[1;31m:\u001b[0m invalid syntax\n"
     ]
    }
   ],
   "source": [
    "4. 아래와 같은 분할을 grid system을 활용하여 만들어 보시오.\n",
    "\n",
    "<!DOCTYPE html>\n",
    "<html lang=\"en\">\n",
    "\n",
    "<head>\n",
    "    <link rel=\"stylesheet\" href=\"https://stackpath.bootstrapcdn.com/bootstrap/4.2.1/css/bootstrap.min.css\" integrity=\"sha384-GJzZqFGwb1QTTN6wy59ffF1BuGJpLSa9DkKMp0DgiMDm4iYMj70gZWKYbI706tWS\" crossorigin=\"anonymous\">\n",
    "    <style>\n",
    "        div {\n",
    "            border: solid 1px black;\n",
    "        }\n",
    "\n",
    "        .row {\n",
    "            background-color: moccasin;\n",
    "        }\n",
    "        \n",
    "    </style>\n",
    "    <title>Document</title>\n",
    "</head>\n",
    "\n",
    "<body>\n",
    "    <div class=\"container\">\n",
    "        <div class=\"row\">\n",
    "            <div class=\"col\">\n",
    "                1 of 3\n",
    "            </div>\n",
    "            <div class=\"col-6\">\n",
    "                2 of 3 (wider)\n",
    "            </div>\n",
    "            <div class=\"col\">\n",
    "                3 of 3\n",
    "            </div>\n",
    "        </div>        \n",
    "    </div>\n",
    "</body>\n",
    "\n",
    "</html>"
   ]
  },
  {
   "cell_type": "markdown",
   "metadata": {},
   "source": [
    "<!DOCTYPE html>\n",
    "<html lang=\"en\">\n",
    "\n",
    "<head>\n",
    "    <link rel=\"stylesheet\" href=\"https://stackpath.bootstrapcdn.com/bootstrap/4.2.1/css/bootstrap.min.css\" integrity=\"sha384-GJzZqFGwb1QTTN6wy59ffF1BuGJpLSa9DkKMp0DgiMDm4iYMj70gZWKYbI706tWS\" crossorigin=\"anonymous\">\n",
    "    <style>\n",
    "        div {\n",
    "            border: solid 1px black;\n",
    "        }\n",
    "\n",
    "        .row {\n",
    "            background-color: moccasin;\n",
    "        }\n",
    "        \n",
    "    </style>\n",
    "    <title>Document</title>\n",
    "</head>\n",
    "\n",
    "<body>\n",
    "    <div class=\"container\">\n",
    "        <div class=\"row\">\n",
    "            <div class=\"col\">\n",
    "                1 of 3\n",
    "            </div>\n",
    "            <div class=\"col-6\">\n",
    "                2 of 3 (wider)\n",
    "            </div>\n",
    "            <div class=\"col\">\n",
    "                3 of 3\n",
    "            </div>\n",
    "        </div>        \n",
    "    </div>\n",
    "</body>\n",
    "\n",
    "</html>"
   ]
  },
  {
   "cell_type": "markdown",
   "metadata": {},
   "source": [
    "<!DOCTYPE html>\n",
    "<html lang=\"en\">\n",
    "\n",
    "<head>\n",
    "    <link rel=\"stylesheet\" href=\"https://stackpath.bootstrapcdn.com/bootstrap/4.2.1/css/bootstrap.min.css\" integrity=\"sha384-GJzZqFGwb1QTTN6wy59ffF1BuGJpLSa9DkKMp0DgiMDm4iYMj70gZWKYbI706tWS\" crossorigin=\"anonymous\">\n",
    "    <style>\n",
    "        div {\n",
    "            border: solid 1px black;\n",
    "        }\n",
    "\n",
    "        .row {\n",
    "            background-color: moccasin;\n",
    "        }\n",
    "        \n",
    "    </style>\n",
    "    <title>Document</title>\n",
    "</head>\n",
    "\n",
    "<body>\n",
    "    <div class=\"container\">\n",
    "        <div class=\"row\">\n",
    "            <div class=\"col\">\n",
    "                1 of 3\n",
    "            </div>\n",
    "            <div class=\"col-6\">\n",
    "                2 of 3 (wider)\n",
    "            </div>\n",
    "            <div class=\"col\">\n",
    "                3 of 3\n",
    "            </div>\n",
    "        </div>        \n",
    "    </div>\n",
    "</body>\n",
    "\n",
    "</html>"
   ]
  }
 ],
 "metadata": {
  "kernelspec": {
   "display_name": "Python 3",
   "language": "python",
   "name": "python3"
  },
  "language_info": {
   "codemirror_mode": {
    "name": "ipython",
    "version": 3
   },
   "file_extension": ".py",
   "mimetype": "text/x-python",
   "name": "python",
   "nbconvert_exporter": "python",
   "pygments_lexer": "ipython3",
   "version": "3.6.7"
  }
 },
 "nbformat": 4,
 "nbformat_minor": 2
}
