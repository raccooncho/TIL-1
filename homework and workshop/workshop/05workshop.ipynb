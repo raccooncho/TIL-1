{
 "cells": [
  {
   "cell_type": "markdown",
   "metadata": {},
   "source": [
    "### Daily workshop 5"
   ]
  },
  {
   "cell_type": "markdown",
   "metadata": {},
   "source": [
    ">problem\n",
    "\n",
    "Palindrome은 앞에서부터 읽었을 때와 뒤에서부터 읽었을 때 같은 단어를 뜻한다. 따라서 'a' 'nan' '토마토' 모두 palindrome에 해당합니다\n",
    "\n",
    "따라서 단어를 입력받아 Palindrome을 검증하고 True 나 False를 리턴하는 함수 palindrome(word)를 만들어보세요."
   ]
  },
  {
   "cell_type": "code",
   "execution_count": 1,
   "metadata": {},
   "outputs": [
    {
     "name": "stdout",
     "output_type": "stream",
     "text": [
      "False\n",
      "True\n",
      "True\n"
     ]
    }
   ],
   "source": [
    "#문자열을 쪼개서 뒤집기\n",
    "def palindrome(word):\n",
    "    pal_list = ' '.join(word).split()\n",
    "    rev_list = ' '.join(word).split()\n",
    "    rev_list.reverse()\n",
    "    \n",
    "    if pal_list == rev_list:\n",
    "        return True\n",
    "    else:\n",
    "        return False\n",
    "    \n",
    "print(palindrome('Nan'))\n",
    "print(palindrome('nan'))\n",
    "print(palindrome('요기요'))"
   ]
  },
  {
   "cell_type": "code",
   "execution_count": 4,
   "metadata": {},
   "outputs": [
    {
     "name": "stdout",
     "output_type": "stream",
     "text": [
      "False\n",
      "True\n",
      "True\n"
     ]
    }
   ],
   "source": [
    "#문자열을 list()를 통해 list화 한 후 뒤집기\n",
    "def palindrome(word):\n",
    "    pal_list = list(word)\n",
    "    rev_list = list(word)\n",
    "    rev_list.reverse()    \n",
    "    if pal_list == rev_list:\n",
    "        return True\n",
    "    else:\n",
    "        return False\n",
    "    \n",
    "print(palindrome('Nan'))\n",
    "print(palindrome('nan'))\n",
    "print(palindrome('요기요'))"
   ]
  },
  {
   "cell_type": "code",
   "execution_count": 7,
   "metadata": {},
   "outputs": [
    {
     "name": "stdout",
     "output_type": "stream",
     "text": [
      "True\n",
      "True\n",
      "True\n"
     ]
    }
   ],
   "source": [
    "# 대소문자 구분 안하는 palindrome\n",
    "def palindrome(word):\n",
    "    pal_list = list(word.upper())\n",
    "    rev_list = list(word.upper())\n",
    "    rev_list.reverse()\n",
    "    if pal_list == rev_list:\n",
    "        return True\n",
    "    else:\n",
    "        return False\n",
    "    \n",
    "print(palindrome('Nan'))\n",
    "print(palindrome('nan'))\n",
    "print(palindrome('요기요'))"
   ]
  }
 ],
 "metadata": {
  "kernelspec": {
   "display_name": "Python 3",
   "language": "python",
   "name": "python3"
  },
  "language_info": {
   "codemirror_mode": {
    "name": "ipython",
    "version": 3
   },
   "file_extension": ".py",
   "mimetype": "text/x-python",
   "name": "python",
   "nbconvert_exporter": "python",
   "pygments_lexer": "ipython3",
   "version": "3.6.7"
  }
 },
 "nbformat": 4,
 "nbformat_minor": 2
}
