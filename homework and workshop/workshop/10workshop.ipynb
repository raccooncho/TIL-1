{
 "cells": [
  {
   "cell_type": "markdown",
   "metadata": {},
   "source": [
    "Selector을 활용한 DOM 탐색 실습에서 \n",
    "#ssafy > p:nth-child(2) 와 #ssafy > p:nth-of-type(2)의 차이점을 알아보자\n"
   ]
  },
  {
   "cell_type": "markdown",
   "metadata": {},
   "source": [
    "#ssafy> p :nth-child(2)의 경우 id: ssafy의 자식인 p의 형제 요소들 (h2 와 p) 중에서 두 번째 요소를 선택한다"
   ]
  },
  {
   "cell_type": "markdown",
   "metadata": {},
   "source": [
    "#ssafy> p :ntn-of-type(2)의 경우 id: ssafy의 자식인 p와 같은 type을 가진 요소들 (p) 중에서 두 번째 요소를 선택한다. 즉 h2를 제외하고 선택하기 때문에 두 번째 p에 style이 적용된다"
   ]
  }
 ],
 "metadata": {
  "kernelspec": {
   "display_name": "Python 3",
   "language": "python",
   "name": "python3"
  },
  "language_info": {
   "codemirror_mode": {
    "name": "ipython",
    "version": 3
   },
   "file_extension": ".py",
   "mimetype": "text/x-python",
   "name": "python",
   "nbconvert_exporter": "python",
   "pygments_lexer": "ipython3",
   "version": "3.6.7"
  }
 },
 "nbformat": 4,
 "nbformat_minor": 2
}
