{
 "cells": [
  {
   "cell_type": "markdown",
   "metadata": {},
   "source": [
    "1. 클릭하면 https://www.ssafy.com/로 이동하는 버튼을 만드시오.\n",
    "\n",
    "<!DOCTYPE html>\n",
    "<html lang=\"Ko\">\n",
    "<head>\n",
    "    <meta charset=\"UTF-8\">\n",
    "    <meta name=\"viewport\" content=\"width=device-width, initial-scale=1.0\">\n",
    "    <meta http-equiv=\"X-UA-Compatible\" content=\"ie=edge\">\n",
    "    <title>btn for ssafy</title>\n",
    "</head>\n",
    "<body>\n",
    "    <a href=\"https://www.ssafy.com\" target=\"_blank\">\n",
    "        <input type=\"button\" value = \"SSAFY\"/>\n",
    "    </a>    \n",
    "</body>\n",
    "</html>"
   ]
  },
  {
   "cell_type": "markdown",
   "metadata": {},
   "source": [
    "2. 다음 태그에서 잘못된 부분을 찾으시오.\n",
    "\n",
    "`<img href=\"https://www.google.com/\" alt=\"GOOGLE\">`\n",
    "> `href를 src로 바꾼다`"
   ]
  },
  {
   "cell_type": "markdown",
   "metadata": {},
   "source": [
    "3. 당신은 현재 Resume.html에서 작업중이다. \"내 사진\"이라는 링크를 누르면 Image 폴더 안에 my_photo를 띄어주는 a 태그 경로를 넣으시오\n",
    "\n",
    "> `<a href=\"C:\\Users\\student\\TIL\\SSAFY\\Image\\my_photo.png>\n",
    "<\\a>`"
   ]
  }
 ],
 "metadata": {
  "kernelspec": {
   "display_name": "Python 3",
   "language": "python",
   "name": "python3"
  },
  "language_info": {
   "codemirror_mode": {
    "name": "ipython",
    "version": 3
   },
   "file_extension": ".py",
   "mimetype": "text/x-python",
   "name": "python",
   "nbconvert_exporter": "python",
   "pygments_lexer": "ipython3",
   "version": "3.6.7"
  }
 },
 "nbformat": 4,
 "nbformat_minor": 2
}
